{
 "cells": [
  {
   "cell_type": "code",
   "execution_count": null,
   "id": "2jXc8M9OyRZe",
   "metadata": {
    "colab": {
     "base_uri": "https://localhost:8080/"
    },
    "executionInfo": {
     "elapsed": 3051,
     "status": "ok",
     "timestamp": 1740606658892,
     "user": {
      "displayName": "Latane Bullock",
      "userId": "14126567511653609834"
     },
     "user_tz": 300
    },
    "id": "2jXc8M9OyRZe",
    "outputId": "4637f57f-092e-4d40-8eea-ad2a8b914a59"
   },
   "outputs": [],
   "source": [
    "!git clone https://github.com/prlabu/Speech-Articulatory-Coding.git"
   ]
  },
  {
   "cell_type": "code",
   "execution_count": null,
   "id": "YyEYj2mJylxs",
   "metadata": {
    "colab": {
     "base_uri": "https://localhost:8080/"
    },
    "executionInfo": {
     "elapsed": 6513,
     "status": "ok",
     "timestamp": 1740606665406,
     "user": {
      "displayName": "Latane Bullock",
      "userId": "14126567511653609834"
     },
     "user_tz": 300
    },
    "id": "YyEYj2mJylxs",
    "outputId": "d644d006-2e87-4feb-f7e6-8757485c4361"
   },
   "outputs": [],
   "source": [
    "!pip install -e /content/Speech-Articulatory-Coding/."
   ]
  },
  {
   "cell_type": "code",
   "execution_count": 2,
   "id": "19x71UXDyoJG",
   "metadata": {
    "executionInfo": {
     "elapsed": 41,
     "status": "ok",
     "timestamp": 1740606707675,
     "user": {
      "displayName": "Latane Bullock",
      "userId": "14126567511653609834"
     },
     "user_tz": 300
    },
    "id": "19x71UXDyoJG"
   },
   "outputs": [],
   "source": [
    "import sys\n",
    "import os\n",
    "import glob\n",
    "# sys.path.append(\"/content/Speech-Articulatory-Coding/\")\n",
    "sys.path.insert(0,\"/content/Speech-Articulatory-Coding/\")\n"
   ]
  },
  {
   "cell_type": "code",
   "execution_count": 4,
   "id": "6N58Z1EgLVuG",
   "metadata": {
    "executionInfo": {
     "elapsed": 8,
     "status": "ok",
     "timestamp": 1740606708830,
     "user": {
      "displayName": "Latane Bullock",
      "userId": "14126567511653609834"
     },
     "user_tz": 300
    },
    "id": "6N58Z1EgLVuG"
   },
   "outputs": [],
   "source": []
  },
  {
   "cell_type": "code",
   "execution_count": 3,
   "id": "ed8e3634-3e43-4d23-a881-d1d4201016c5",
   "metadata": {
    "colab": {
     "base_uri": "https://localhost:8080/"
    },
    "executionInfo": {
     "elapsed": 49755,
     "status": "ok",
     "timestamp": 1740606758938,
     "user": {
      "displayName": "Latane Bullock",
      "userId": "14126567511653609834"
     },
     "user_tz": 300
    },
    "id": "ed8e3634-3e43-4d23-a881-d1d4201016c5",
    "outputId": "2395d63b-1eb6-4ac3-e5dc-c2cd16c9ba0e",
    "scrolled": true
   },
   "outputs": [
    {
     "name": "stderr",
     "output_type": "stream",
     "text": [
      "/projectnb/busplab/lbullock/.conda/envs/sparc_20250225/lib/python3.9/site-packages/tqdm/auto.py:21: TqdmWarning: IProgress not found. Please update jupyter and ipywidgets. See https://ipywidgets.readthedocs.io/en/stable/user_install.html\n",
      "  from .autonotebook import tqdm as notebook_tqdm\n"
     ]
    }
   ],
   "source": [
    "%load_ext autoreload\n",
    "%autoreload 2\n",
    "import importlib\n",
    "# import sparc\n",
    "from sparc import load_model\n",
    "import copy\n",
    "import os\n",
    "import glob\n",
    "import pickle\n",
    "import numpy as np\n",
    "import pandas as pd\n",
    "from sklearn.linear_model import LinearRegression\n",
    "import datetime"
   ]
  },
  {
   "cell_type": "code",
   "execution_count": 4,
   "id": "e1db5055",
   "metadata": {
    "executionInfo": {
     "elapsed": 59,
     "status": "ok",
     "timestamp": 1740606776621,
     "user": {
      "displayName": "Latane Bullock",
      "userId": "14126567511653609834"
     },
     "user_tz": 300
    },
    "id": "e1db5055"
   },
   "outputs": [],
   "source": [
    "import soundfile as sf\n",
    "import IPython.display as ipd\n",
    "import matplotlib.pyplot as plt\n",
    "import matplotlib as mpl\n",
    "mpl.style.use('ggplot')"
   ]
  },
  {
   "cell_type": "code",
   "execution_count": 5,
   "id": "5a636ebf",
   "metadata": {
    "colab": {
     "base_uri": "https://localhost:8080/"
    },
    "executionInfo": {
     "elapsed": 5274,
     "status": "ok",
     "timestamp": 1740606975127,
     "user": {
      "displayName": "Latane Bullock",
      "userId": "14126567511653609834"
     },
     "user_tz": 300
    },
    "id": "5a636ebf",
    "outputId": "284366ca-23bf-4042-e1e6-9b64137fa074"
   },
   "outputs": [
    {
     "name": "stdout",
     "output_type": "stream",
     "text": [
      "load_model v3\n",
      "load_model v3\n",
      "Using PENN for pitch tracking.\n"
     ]
    },
    {
     "name": "stderr",
     "output_type": "stream",
     "text": [
      "/projectnb/busplab/lbullock/.conda/envs/sparc_20250225/lib/python3.9/site-packages/torch/nn/utils/weight_norm.py:143: FutureWarning: `torch.nn.utils.weight_norm` is deprecated in favor of `torch.nn.utils.parametrizations.weight_norm`.\n",
      "  WeightNorm.apply(module, name, dim)\n"
     ]
    }
   ],
   "source": [
    "coder = load_model(\"en\", device= \"cuda\", use_penn=True)"
   ]
  },
  {
   "cell_type": "code",
   "execution_count": 6,
   "id": "31541367",
   "metadata": {
    "executionInfo": {
     "elapsed": 58,
     "status": "ok",
     "timestamp": 1740606814519,
     "user": {
      "displayName": "Latane Bullock",
      "userId": "14126567511653609834"
     },
     "user_tz": 300
    },
    "id": "31541367"
   },
   "outputs": [],
   "source": [
    "# import sys\n",
    "# # import scipy as sp\n",
    "# import sklearn as skl\n",
    "# from sklearn.decomposition import PCA\n",
    "# import pandas as pd\n",
    "\n",
    "\n",
    "import numpy as np"
   ]
  },
  {
   "cell_type": "code",
   "execution_count": null,
   "id": "NpEhvYMfy_9X",
   "metadata": {
    "colab": {
     "base_uri": "https://localhost:8080/"
    },
    "executionInfo": {
     "elapsed": 23331,
     "status": "ok",
     "timestamp": 1740606837954,
     "user": {
      "displayName": "Latane Bullock",
      "userId": "14126567511653609834"
     },
     "user_tz": 300
    },
    "id": "NpEhvYMfy_9X",
    "outputId": "5464f7f9-ab2c-4b0d-abee-74d46b9fdb82"
   },
   "outputs": [],
   "source": [
    "from google.colab import drive\n",
    "drive.mount('/content/drive')"
   ]
  },
  {
   "cell_type": "markdown",
   "id": "d7b16736-1ee7-4dce-b0aa-d51110548641",
   "metadata": {
    "id": "d7b16736-1ee7-4dce-b0aa-d51110548641"
   },
   "source": [
    "# Visualize EMA trajectories from wav"
   ]
  },
  {
   "cell_type": "code",
   "execution_count": null,
   "id": "d5498ecb",
   "metadata": {
    "id": "d5498ecb"
   },
   "outputs": [],
   "source": [
    "color_code = {\"UL\":mpl.colors.to_rgb(\"#EE3A5B\"),\n",
    "              \"LL\":mpl.colors.to_rgb(\"#FFD155\"),\n",
    "              \"LI\":mpl.colors.to_rgb(\"#959595\"),\n",
    "              \"TT\":mpl.colors.to_rgb(\"#43B962\"),\n",
    "              \"TB\":mpl.colors.to_rgb(\"#C44B9F\"),\n",
    "              \"TD\":mpl.colors.to_rgb(\"#0093B7\"),\n",
    "              \"Loudness\":mpl.colors.to_rgb(\"#FB754D\"),\n",
    "              \"Pitch\":mpl.colors.to_rgb(\"#FB754D\"),}\n",
    "\n",
    "HPRC_channel_label = ['LIX','LIY','ULX','ULY','LLX','LLY','TTX','TTY','TBX','TBY','TDX','TDY']\n",
    "\n",
    "def plot_art(ax, art, gap=5, skip_y=False,color=None,alpha=1.0, lw=2, plot_velocity=False):\n",
    "    yticks=[]\n",
    "    ytick_labels=[]\n",
    "    labels = [\"UL\",\"LL\", \"LI\", \"TT\", \"TB\", \"TD\"]\n",
    "    chidxs = []\n",
    "    HPRC_channel_label = ['LIX','LIY','ULX','ULY','LLX','LLY','TTX','TTY','TBX','TBY','TDX','TDY']\n",
    "    channel_label = HPRC_channel_label\n",
    "    for l in labels:\n",
    "        chidxs.append(HPRC_channel_label.index(l+\"X\"))\n",
    "        chidxs.append(HPRC_channel_label.index(l+\"Y\"))\n",
    "\n",
    "    time = np.arange(0, art.shape[0]) / 50\n",
    "    # print(len(art))\n",
    "    # print(time)\n",
    "    for i, ch_i in enumerate(chidxs):\n",
    "        ch_label = channel_label[ch_i]\n",
    "        ytick_labels.append(ch_label)\n",
    "        if ch_i < 12:\n",
    "            art_name= ch_label[:2]\n",
    "            if color is None:\n",
    "                color = color_code[art_name]\n",
    "        else:\n",
    "            art_name = ch_label\n",
    "            if color is None:\n",
    "                color = color_code[art_name]\n",
    "        x = art[:,ch_i]\n",
    "        ax.plot(time, x-gap*i,color=color,alpha=alpha,lw=lw)\n",
    "        if plot_velocity:\n",
    "            ax.plot(time, 2*np.concatenate(([0], np.diff(x))) - gap*i,color='r',alpha=alpha*0.5,lw=1)\n",
    "\n",
    "        yticks.append(-gap*i)\n",
    "\n",
    "    i = i+1\n",
    "    # diffs = np.diff(art, axis=0)\n",
    "    # maxdiffs = np.max(diffs, axis = 1)\n",
    "    diffs = np.vstack([np.zeros((1, 12)), np.abs(np.diff(art, axis=0))])\n",
    "    maxdiffs = np.max(diffs, axis = 1)\n",
    "    ax.plot(time, 2*maxdiffs-gap*i,color='r',alpha=alpha*0.5,lw=lw)\n",
    "    yticks.append(-gap*i)\n",
    "    ytick_labels.append('~max velocity')\n",
    "\n",
    "    if skip_y:\n",
    "        ytick_labels = [\"\"]*len(ytick_labels)\n",
    "\n",
    "    ax.set_yticks(yticks,ytick_labels,fontsize=15)\n",
    "\n",
    "    # xticks= np.arange(0,len(art),50)\n",
    "    # xtick_labels= [f\"{int(x*20/1000)}\" for x in xticks]\n",
    "    # ax.set_xticks(xticks, xtick_labels,fontsize=15)\n",
    "    ax.set_xlabel(\"Time (s)\", fontsize=15)\n",
    "    # ax.set_xlim(0,len(art))\n",
    "    return yticks"
   ]
  },
  {
   "cell_type": "code",
   "execution_count": null,
   "id": "31294788",
   "metadata": {
    "id": "31294788"
   },
   "outputs": [],
   "source": [
    "yticks=[]\n",
    "ytick_labels=[]\n",
    "labels = [\"UL\",\"LL\", \"LI\", \"TT\", \"TB\", \"TD\"]\n",
    "chidxs = []\n",
    "HPRC_channel_label = ['LIX','LIY','ULX','ULY','LLX','LLY','TTX','TTY','TBX','TBY','TDX','TDY']"
   ]
  },
  {
   "cell_type": "code",
   "execution_count": null,
   "id": "a79ba12e-2f91-41b5-8b94-88ceb52a33cf",
   "metadata": {
    "id": "a79ba12e-2f91-41b5-8b94-88ceb52a33cf"
   },
   "outputs": [],
   "source": [
    "# wav_file  = '../sample_audio/pataka-fast.wav'\n",
    "wav_file  = '../sample_audio/be2d.wav'\n",
    "wav_file2  = '../sample_audio/be2d-fran-trim-2.wav'\n",
    "wav_file3  = '../sample_audio/be2d-chin-trim.wav'\n",
    "\n",
    "# wav_file  = '/Volumes/Nexus4/DBS/derivatives/sub-DM1033/aec/sub-DM1033_ses-intraop_task-lombard_run-03_recording-directionalmicaec_physio.wav'\n",
    "# wav_file = '../sample_audio/sub-DM1033_ses-intraop_task-lombard_run-03_directionalmicaec-start-99s.wav'\n",
    "\n",
    "codes = [coder.encode(f) for f in [wav_file, wav_file2, wav_file3]]\n",
    "# code = coder.encode(wav_file)\n",
    "# code2 = coder.encode(wav_file2)\n",
    "\n",
    "# sound = out['wav']\n",
    "# ema = out['ema'].squeeze()\n",
    "\n",
    "\n",
    "        # x = art[:,ch_i]\n",
    "        # ax.plot(time, np.concatenate(0, np.diff(x))-gap*i,color='r',alpha=alpha*0.5,lw=1)\n",
    "        # ax.plot(time, x-gap*i,color=color,alpha=alpha,lw=lw)\n",
    "# i = i+1\n",
    "# diffs = np.vstack([np.zeros((1, 12)), np.diff(ema, axis=0)])\n",
    "# maxdiffs = np.max(ema, axis = 1)\n",
    "# ax.plot(time[2:-1], maxdiffs-gap*i,color=color,alpha=alpha,lw=lw)\n",
    "# maxdiffs.shape\n",
    "# maxdiffs.shape\n",
    "\n",
    "wav, wav_fs = sf.read(wav_file)\n",
    "# # wav.size\n",
    "\n",
    "\n",
    "# {k:v.shape for k, v in codes[1].items()}\n",
    "# {k:v.shape for k, v in code.items()}\n"
   ]
  },
  {
   "cell_type": "code",
   "execution_count": null,
   "id": "cff539fc",
   "metadata": {
    "id": "cff539fc"
   },
   "outputs": [],
   "source": [
    "allacoustics = np.concatenate([c['acoustics_wvlm'] for c in codes], axis=0)\n",
    "pca = PCA().fit(allacoustics)\n",
    "plt.plot(np.cumsum(pca.explained_variance_ratio_))\n",
    "\n",
    "allacoustics_stats = pd.DataFrame({'min': np.amin(allacoustics, axis=0).T,\n",
    "                                   'max': np.amax(allacoustics, axis=0).T})"
   ]
  },
  {
   "cell_type": "code",
   "execution_count": null,
   "id": "be28d782",
   "metadata": {
    "id": "be28d782"
   },
   "outputs": [],
   "source": [
    "codes[1]['loudness'].shape"
   ]
  },
  {
   "cell_type": "code",
   "execution_count": null,
   "id": "534293b8",
   "metadata": {
    "id": "534293b8"
   },
   "outputs": [],
   "source": [
    "acoustics_wvlm_tranformed = [pca.transform(c['acoustics_wvlm'])[:, 0:12] for c in codes]\n",
    "for i, c in enumerate(codes):\n",
    "    c.update({'acoustics_wvlm_transform': acoustics_wvlm_tranformed[i]})\n",
    "#     c['acoustics_wvlm'] =\n",
    "# acoustics_wvlm_tranformed[1].shape\n",
    "# codes[1].keys()"
   ]
  },
  {
   "cell_type": "code",
   "execution_count": null,
   "id": "2f8b49c3",
   "metadata": {
    "id": "2f8b49c3"
   },
   "outputs": [],
   "source": [
    "offset = -100\n",
    "# c = codes[2]\n",
    "for c in codes:\n",
    "    d = c['acoustics_wvlm_transform']\n",
    "    plt.gca().set_prop_cycle(None)\n",
    "    for i in range(d.shape[1]):\n",
    "        plt.plot(d[:, i] + i*offset)\n",
    "\n",
    "plt.gca().set_yticks([])\n",
    "plt.gca().set_ylabel('wavLM 1024-to-PCA dimensions')\n",
    "plt.gca().set_xlabel('Time [sample]')"
   ]
  },
  {
   "cell_type": "code",
   "execution_count": null,
   "id": "e69a8ae0",
   "metadata": {
    "id": "e69a8ae0"
   },
   "outputs": [],
   "source": []
  },
  {
   "cell_type": "code",
   "execution_count": null,
   "id": "749b92e9",
   "metadata": {
    "id": "749b92e9"
   },
   "outputs": [],
   "source": [
    "fig,ax = plt.subplots(3,1, figsize=(5,10), sharex=True)\n",
    "\n",
    "ax[0].plot(np.arange(0, wav.size) / wav_fs, wav)\n",
    "\n",
    "for code in codes:\n",
    "    plot_art(ax[1], (code['ema']), color='C0', gap=6, alpha=0.5, lw=2)\n",
    "# plot_art(ax[1], perturb_ema(code['ema']), color='C0', gap=6, alpha=0.5, lw=2)\n",
    "# plot_art(ax[1], (code2['ema']), color='C0', gap=6, alpha=0.5, lw=1)\n",
    "\n",
    "\n",
    "plt.show()"
   ]
  },
  {
   "cell_type": "markdown",
   "id": "7e87e531",
   "metadata": {
    "id": "7e87e531"
   },
   "source": [
    "# Simple encode-decode resynthesis"
   ]
  },
  {
   "cell_type": "code",
   "execution_count": null,
   "id": "1be7defc",
   "metadata": {
    "id": "1be7defc"
   },
   "outputs": [],
   "source": [
    "# TESTING\n",
    "# wav_file = '../sample_audio/diva_babbling/diva_babbling-188.wav'\n",
    "\n",
    "# code_orig = coder.encode(wav_file)\n",
    "# code_orig['acoustics_wvlm'].shape\n",
    "\n",
    "# wav = coder.decode(**code_orig)\n",
    "# sf.write(wav_file[0:-4] + '-resynth.wav', wav, coder.sr)\n",
    "\n",
    "# # ground truth\n",
    "# wavt,tsr = sf.read(wav_file)\n",
    "# ipd.display(ipd.Audio(wavt, rate=tsr))\n",
    "\n",
    "# # resynthesized\n",
    "# ipd.display(ipd.Audio(wav, rate=coder.sr))\n",
    "\n",
    "# code_orig.pop('wav', None)\n",
    "# code_orig.keys()"
   ]
  },
  {
   "cell_type": "code",
   "execution_count": 7,
   "id": "5bb49b15",
   "metadata": {
    "colab": {
     "base_uri": "https://localhost:8080/"
    },
    "executionInfo": {
     "elapsed": 15007,
     "status": "ok",
     "timestamp": 1740606867780,
     "user": {
      "displayName": "Latane Bullock",
      "userId": "14126567511653609834"
     },
     "user_tz": 300
    },
    "id": "5bb49b15",
    "outputId": "06538dba-cadc-41f8-c7da-c8b8e62c3d4a"
   },
   "outputs": [
    {
     "data": {
      "text/plain": [
       "['/projectnb/busplab/lbullock/sparc_sample_audio/sample_audio/diva_babbling/diva_babbling-20250226124132262.wav',\n",
       " '/projectnb/busplab/lbullock/sparc_sample_audio/sample_audio/diva_babbling/diva_babbling-20250226121923151.wav',\n",
       " '/projectnb/busplab/lbullock/sparc_sample_audio/sample_audio/diva_babbling/diva_babbling-20250226124011560.wav',\n",
       " '/projectnb/busplab/lbullock/sparc_sample_audio/sample_audio/diva_babbling/diva_babbling-20250226122607833.wav',\n",
       " '/projectnb/busplab/lbullock/sparc_sample_audio/sample_audio/diva_babbling/diva_babbling-20250226122004394.wav',\n",
       " '/projectnb/busplab/lbullock/sparc_sample_audio/sample_audio/diva_babbling/diva_babbling-20250226124212846.wav',\n",
       " '/projectnb/busplab/lbullock/sparc_sample_audio/sample_audio/diva_babbling/diva_babbling-20250226123931263.wav',\n",
       " '/projectnb/busplab/lbullock/sparc_sample_audio/sample_audio/diva_babbling/diva_babbling-20250226124453852.wav',\n",
       " '/projectnb/busplab/lbullock/sparc_sample_audio/sample_audio/diva_babbling/diva_babbling-20250226123047153.wav',\n",
       " '/projectnb/busplab/lbullock/sparc_sample_audio/sample_audio/diva_babbling/diva_babbling-20250226124855904.wav']"
      ]
     },
     "execution_count": 7,
     "metadata": {},
     "output_type": "execute_result"
    }
   ],
   "source": [
    "# files = glob.glob('../sample_audio/diva_babbling/diva_babbling*.wav')\n",
    "topdir = '/projectnb/busplab/lbullock/sparc_sample_audio' # for BU SCC\n",
    "# topdir = '/content/drive/MyDrive/shbt/BML-guenther/2024S-guenther-audio-primitives/util/Speech-Articulatory-Coding'\n",
    "files = glob.glob(f'{topdir}/sample_audio/diva_babbling/diva_babbling*.wav')\n",
    "\n",
    "# dir_out = '../sample_audio/diva_babbling_resynth_20250224/'\n",
    "# dir_out = '/content/drive/MyDrive/shbt/BML-guenther/2024S-guenther-audio-primitives/util/Speech-Articulatory-Coding/sample_audio/diva_babbling_resynth_20250224/'\n",
    "dir_out = (f'{topdir}/sample_audio/diva_babbling_resynth/')\n",
    "\n",
    "files[0:10]\n"
   ]
  },
  {
   "cell_type": "code",
   "execution_count": 10,
   "id": "pJZLS9_B8bgR",
   "metadata": {
    "colab": {
     "base_uri": "https://localhost:8080/",
     "height": 428
    },
    "executionInfo": {
     "elapsed": 59593,
     "status": "error",
     "timestamp": 1740606940528,
     "user": {
      "displayName": "Latane Bullock",
      "userId": "14126567511653609834"
     },
     "user_tz": 300
    },
    "id": "pJZLS9_B8bgR",
    "outputId": "3cf32c7f-c335-4a38-c073-76e4fd83052c"
   },
   "outputs": [
    {
     "name": "stderr",
     "output_type": "stream",
     "text": [
      "/projectnb/busplab/lbullock/.conda/envs/sparc_20250225/lib/python3.9/site-packages/torch/nn/functional.py:5962: UserWarning: Support for mismatched key_padding_mask and attn_mask is deprecated. Use same type for both instead.\n",
      "  warnings.warn(\n"
     ]
    },
    {
     "name": "stdout",
     "output_type": "stream",
     "text": [
      "_extract_ema: v4\n"
     ]
    },
    {
     "data": {
      "text/plain": [
       "dict_keys(['wav', 'ema', 'acoustics_wvlm', 'loudness', 'pitch', 'periodicity', 'pitch_stats', 'spk_emb', 'ft_len'])"
      ]
     },
     "execution_count": 10,
     "metadata": {},
     "output_type": "execute_result"
    }
   ],
   "source": [
    "\n",
    "(fdir, fname) = os.path.split(files[0])\n",
    "(fname, fext) = fname.split('.')\n",
    "\n",
    "code_orig = coder.encode(files[0])\n",
    "# code_orig.pop('wav', None)\n",
    "code_orig.keys()"
   ]
  },
  {
   "cell_type": "code",
   "execution_count": 13,
   "id": "3CI3X4Om_LUe",
   "metadata": {
    "id": "3CI3X4Om_LUe"
   },
   "outputs": [
    {
     "data": {
      "text/plain": [
       "50"
      ]
     },
     "execution_count": 13,
     "metadata": {},
     "output_type": "execute_result"
    }
   ],
   "source": [
    "# encode and resynthesize a whole series of files\n",
    "# for f in\n",
    "\n",
    "FS_SPARC_CODE = 50\n",
    "SPARC_EMA_LABELS = [\"ULX\", \"ULY\", \"LLX\", \"LLY\",  \"LIX\", \"LIY\",  \"TTX\", \"TTY\", \"TBX\", \"TBY\", \"TDX\", \"TDY\"]\n"
   ]
  },
  {
   "cell_type": "code",
   "execution_count": 16,
   "id": "b3a654d0",
   "metadata": {
    "id": "b3a654d0"
   },
   "outputs": [
    {
     "name": "stdout",
     "output_type": "stream",
     "text": [
      "0 /projectnb/busplab/lbullock/sparc_sample_audio/sample_audio/diva_babbling/diva_babbling-20250226124132262.wav\n",
      "1 /projectnb/busplab/lbullock/sparc_sample_audio/sample_audio/diva_babbling/diva_babbling-20250226121923151.wav\n",
      "2 /projectnb/busplab/lbullock/sparc_sample_audio/sample_audio/diva_babbling/diva_babbling-20250226124011560.wav\n",
      "3 /projectnb/busplab/lbullock/sparc_sample_audio/sample_audio/diva_babbling/diva_babbling-20250226122607833.wav\n",
      "4 /projectnb/busplab/lbullock/sparc_sample_audio/sample_audio/diva_babbling/diva_babbling-20250226122004394.wav\n",
      "5 /projectnb/busplab/lbullock/sparc_sample_audio/sample_audio/diva_babbling/diva_babbling-20250226124212846.wav\n",
      "6 /projectnb/busplab/lbullock/sparc_sample_audio/sample_audio/diva_babbling/diva_babbling-20250226123931263.wav\n",
      "7 /projectnb/busplab/lbullock/sparc_sample_audio/sample_audio/diva_babbling/diva_babbling-20250226124453852.wav\n",
      "8 /projectnb/busplab/lbullock/sparc_sample_audio/sample_audio/diva_babbling/diva_babbling-20250226123047153.wav\n",
      "9 /projectnb/busplab/lbullock/sparc_sample_audio/sample_audio/diva_babbling/diva_babbling-20250226124855904.wav\n",
      "10 /projectnb/busplab/lbullock/sparc_sample_audio/sample_audio/diva_babbling/diva_babbling-20250226123730809.wav\n",
      "11 /projectnb/busplab/lbullock/sparc_sample_audio/sample_audio/diva_babbling/diva_babbling-20250226125136859.wav\n",
      "12 /projectnb/busplab/lbullock/sparc_sample_audio/sample_audio/diva_babbling/diva_babbling-20250226122208059.wav\n",
      "13 /projectnb/busplab/lbullock/sparc_sample_audio/sample_audio/diva_babbling/diva_babbling-20250226125016338.wav\n",
      "14 /projectnb/busplab/lbullock/sparc_sample_audio/sample_audio/diva_babbling/diva_babbling-20250226122128047.wav\n",
      "15 /projectnb/busplab/lbullock/sparc_sample_audio/sample_audio/diva_babbling/diva_babbling-20250226124253055.wav\n",
      "16 /projectnb/busplab/lbullock/sparc_sample_audio/sample_audio/diva_babbling/diva_babbling-20250226123529453.wav\n",
      "17 /projectnb/busplab/lbullock/sparc_sample_audio/sample_audio/diva_babbling/diva_babbling-20250226122447777.wav\n",
      "18 /projectnb/busplab/lbullock/sparc_sample_audio/sample_audio/diva_babbling/diva_babbling-20250226124333324.wav\n",
      "19 /projectnb/busplab/lbullock/sparc_sample_audio/sample_audio/diva_babbling/diva_babbling-20250226124051895.wav\n",
      "20 /projectnb/busplab/lbullock/sparc_sample_audio/sample_audio/diva_babbling/diva_babbling-20250226123810925.wav\n",
      "21 /projectnb/busplab/lbullock/sparc_sample_audio/sample_audio/diva_babbling/diva_babbling-20250226122807645.wav\n",
      "22 /projectnb/busplab/lbullock/sparc_sample_audio/sample_audio/diva_babbling/diva_babbling-20250226122247926.wav\n",
      "23 /projectnb/busplab/lbullock/sparc_sample_audio/sample_audio/diva_babbling/diva_babbling-20250226122046081.wav\n",
      "24 /projectnb/busplab/lbullock/sparc_sample_audio/sample_audio/diva_babbling/diva_babbling-20250226124735155.wav\n",
      "25 /projectnb/busplab/lbullock/sparc_sample_audio/sample_audio/diva_babbling/diva_babbling-20250226123650618.wav\n",
      "26 /projectnb/busplab/lbullock/sparc_sample_audio/sample_audio/diva_babbling/diva_babbling-20250226123207182.wav\n",
      "27 /projectnb/busplab/lbullock/sparc_sample_audio/sample_audio/diva_babbling/diva_babbling-20250226122727970.wav\n",
      "28 /projectnb/busplab/lbullock/sparc_sample_audio/sample_audio/diva_babbling/diva_babbling-20250226122926782.wav\n",
      "29 /projectnb/busplab/lbullock/sparc_sample_audio/sample_audio/diva_babbling/diva_babbling-20250226124815488.wav\n",
      "30 /projectnb/busplab/lbullock/sparc_sample_audio/sample_audio/diva_babbling/diva_babbling-20250226125056548.wav\n",
      "31 /projectnb/busplab/lbullock/sparc_sample_audio/sample_audio/diva_babbling/diva_babbling-20250226123851107.wav\n",
      "32 /projectnb/busplab/lbullock/sparc_sample_audio/sample_audio/diva_babbling/diva_babbling-20250226124614327.wav\n",
      "33 /projectnb/busplab/lbullock/sparc_sample_audio/sample_audio/diva_babbling/diva_babbling-20250226124413643.wav\n",
      "34 /projectnb/busplab/lbullock/sparc_sample_audio/sample_audio/diva_babbling/diva_babbling-20250226124654931.wav\n",
      "35 /projectnb/busplab/lbullock/sparc_sample_audio/sample_audio/diva_babbling/diva_babbling-20250226124936192.wav\n",
      "36 /projectnb/busplab/lbullock/sparc_sample_audio/sample_audio/diva_babbling/diva_babbling-20250226122327909.wav\n",
      "37 /projectnb/busplab/lbullock/sparc_sample_audio/sample_audio/diva_babbling/diva_babbling-20250226123006305.wav\n",
      "38 /projectnb/busplab/lbullock/sparc_sample_audio/sample_audio/diva_babbling/diva_babbling-20250226122648088.wav\n",
      "39 /projectnb/busplab/lbullock/sparc_sample_audio/sample_audio/diva_babbling/diva_babbling-20250226122407714.wav\n",
      "40 /projectnb/busplab/lbullock/sparc_sample_audio/sample_audio/diva_babbling/diva_babbling-20250226122847256.wav\n",
      "41 /projectnb/busplab/lbullock/sparc_sample_audio/sample_audio/diva_babbling/diva_babbling-20250226123247718.wav\n",
      "42 /projectnb/busplab/lbullock/sparc_sample_audio/sample_audio/diva_babbling/diva_babbling-20250226122527888.wav\n",
      "43 /projectnb/busplab/lbullock/sparc_sample_audio/sample_audio/diva_babbling/diva_babbling-20250226123126791.wav\n",
      "44 /projectnb/busplab/lbullock/sparc_sample_audio/sample_audio/diva_babbling/diva_babbling-20250226123610105.wav\n",
      "45 /projectnb/busplab/lbullock/sparc_sample_audio/sample_audio/diva_babbling/diva_babbling-20250226125217095.wav\n",
      "46 /projectnb/busplab/lbullock/sparc_sample_audio/sample_audio/diva_babbling/diva_babbling-20250226123328139.wav\n",
      "47 /projectnb/busplab/lbullock/sparc_sample_audio/sample_audio/diva_babbling/diva_babbling-20250226123408388.wav\n",
      "48 /projectnb/busplab/lbullock/sparc_sample_audio/sample_audio/diva_babbling/diva_babbling-20250226123449122.wav\n",
      "49 /projectnb/busplab/lbullock/sparc_sample_audio/sample_audio/diva_babbling/diva_babbling-20250226124534159.wav\n"
     ]
    }
   ],
   "source": [
    "\n",
    "# files = glob.glob('../sample_audio/diva_babbling/diva_babbling*.wav')\n",
    "files = glob.glob(f'{topdir}/sample_audio/diva_babbling/diva_babbling*.wav')\n",
    "files = [f for f in files if '20250226' in f ]\n",
    "\n",
    "for idx_f, f in enumerate(files):\n",
    "# f = files[0]\n",
    "    print(idx_f, f)\n",
    "    # if idx_f<500: % 500 files were run 20250225\n",
    "    #   continue\n",
    "\n",
    "    (fdir, fname) = os.path.split(f)\n",
    "    (fname, fext) = fname.split('.')\n",
    "    if os.path.exists(dir_out + fname + '-resynth-ema.csv'): \n",
    "        continue\n",
    "\n",
    "    code_orig = coder.encode(f)\n",
    "    code_orig.pop('wav', None)\n",
    "\n",
    "\n",
    "    # write EMA\n",
    "    code = code_orig['ema'].squeeze()\n",
    "    code_time = np.arange(1, code.shape[0]+1)  / FS_SPARC_CODE\n",
    "\n",
    "    df = pd.DataFrame(code)\n",
    "    df.columns = SPARC_EMA_LABELS\n",
    "    df['file_id'] = fname\n",
    "    df['time'] = code_time\n",
    "    df.to_csv(dir_out + fname + '-resynth-ema.csv', index=False)\n",
    "\n",
    "    # write wavLM features\n",
    "    code = code_orig['acoustics_wvlm'].squeeze()\n",
    "    code_time = np.arange(1, code.shape[0]+1)  / FS_SPARC_CODE\n",
    "    nfeat = code.shape[1]\n",
    "\n",
    "    df = pd.DataFrame(code)\n",
    "    df.columns = [\"wavlm_\"+str(i) for i in range(0, nfeat)]\n",
    "    df['file_id'] = fname\n",
    "    df['time'] = code_time\n",
    "    df.to_csv(dir_out + fname + '-resynth-wavlm.csv', index=False)\n",
    "\n",
    "    # write wav file\n",
    "    wav = coder.decode(**code_orig)\n",
    "    sf.write(dir_out + fname + '-resynth.wav', wav, coder.sr)\n",
    "\n",
    "    # write full pickle file\n",
    "    with open(dir_out + fname + '-resynth.pickle', 'wb') as handle:\n",
    "            pickle.dump(code_orig, handle, protocol=pickle.HIGHEST_PROTOCOL)\n",
    "\n"
   ]
  },
  {
   "cell_type": "markdown",
   "id": "4b07780a",
   "metadata": {
    "id": "4b07780a"
   },
   "source": [
    "# Learn the matrix W from prior samples"
   ]
  },
  {
   "cell_type": "code",
   "execution_count": 21,
   "id": "36ed4107",
   "metadata": {
    "id": "36ed4107"
   },
   "outputs": [
    {
     "name": "stdout",
     "output_type": "stream",
     "text": [
      "n files: 632\n",
      "0 /projectnb/busplab/lbullock/sparc_sample_audio/sample_audio/diva_babbling/diva_babbling-20250224122218119.wav\n",
      "1 /projectnb/busplab/lbullock/sparc_sample_audio/sample_audio/diva_babbling/diva_babbling-20250224121257768.wav\n",
      "2 /projectnb/busplab/lbullock/sparc_sample_audio/sample_audio/diva_babbling/diva_babbling-20250224122813630.wav\n",
      "3 /projectnb/busplab/lbullock/sparc_sample_audio/sample_audio/diva_babbling/diva_babbling-20250224120222753.wav\n",
      "4 /projectnb/busplab/lbullock/sparc_sample_audio/sample_audio/diva_babbling/diva_babbling-20250224120445886.wav\n",
      "5 /projectnb/busplab/lbullock/sparc_sample_audio/sample_audio/diva_babbling/diva_babbling-20250226124132262.wav\n",
      "6 /projectnb/busplab/lbullock/sparc_sample_audio/sample_audio/diva_babbling/diva_babbling-20250224115511914.wav\n",
      "7 /projectnb/busplab/lbullock/sparc_sample_audio/sample_audio/diva_babbling/diva_babbling-20250224121624240.wav\n",
      "8 /projectnb/busplab/lbullock/sparc_sample_audio/sample_audio/diva_babbling/diva_babbling-20250224115736627.wav\n",
      "9 /projectnb/busplab/lbullock/sparc_sample_audio/sample_audio/diva_babbling/diva_babbling-20250224120417190.wav\n",
      "10 /projectnb/busplab/lbullock/sparc_sample_audio/sample_audio/diva_babbling/diva_babbling-20250224115205341.wav\n",
      "11 /projectnb/busplab/lbullock/sparc_sample_audio/sample_audio/diva_babbling/diva_babbling-20250224121019875.wav\n",
      "12 /projectnb/busplab/lbullock/sparc_sample_audio/sample_audio/diva_babbling/diva_babbling-20250224121147181.wav\n",
      "13 /projectnb/busplab/lbullock/sparc_sample_audio/sample_audio/diva_babbling/diva_babbling-20250226121923151.wav\n",
      "14 /projectnb/busplab/lbullock/sparc_sample_audio/sample_audio/diva_babbling/diva_babbling-20250224120040368.wav\n",
      "15 /projectnb/busplab/lbullock/sparc_sample_audio/sample_audio/diva_babbling/diva_babbling-20250224123038107.wav\n",
      "16 /projectnb/busplab/lbullock/sparc_sample_audio/sample_audio/diva_babbling/diva_babbling-20250224122920116.wav\n",
      "17 /projectnb/busplab/lbullock/sparc_sample_audio/sample_audio/diva_babbling/diva_babbling-20250226124011560.wav\n",
      "18 /projectnb/busplab/lbullock/sparc_sample_audio/sample_audio/diva_babbling/diva_babbling-20250224120726373.wav\n",
      "19 /projectnb/busplab/lbullock/sparc_sample_audio/sample_audio/diva_babbling/diva_babbling-20250224121245411.wav\n",
      "20 /projectnb/busplab/lbullock/sparc_sample_audio/sample_audio/diva_babbling/diva_babbling-20250224122106425.wav\n",
      "21 /projectnb/busplab/lbullock/sparc_sample_audio/sample_audio/diva_babbling/diva_babbling-20250226122607833.wav\n",
      "22 /projectnb/busplab/lbullock/sparc_sample_audio/sample_audio/diva_babbling/diva_babbling-20250224115947538.wav\n",
      "23 /projectnb/busplab/lbullock/sparc_sample_audio/sample_audio/diva_babbling/diva_babbling-20250224115931301.wav\n",
      "24 /projectnb/busplab/lbullock/sparc_sample_audio/sample_audio/diva_babbling/diva_babbling-20250224121126409.wav\n",
      "25 /projectnb/busplab/lbullock/sparc_sample_audio/sample_audio/diva_babbling/diva_babbling-20250224115951633.wav\n",
      "26 /projectnb/busplab/lbullock/sparc_sample_audio/sample_audio/diva_babbling/diva_babbling-20250224123029991.wav\n",
      "27 /projectnb/busplab/lbullock/sparc_sample_audio/sample_audio/diva_babbling/diva_babbling-20250224122801194.wav\n",
      "28 /projectnb/busplab/lbullock/sparc_sample_audio/sample_audio/diva_babbling/diva_babbling-20250224115655426.wav\n",
      "29 /projectnb/busplab/lbullock/sparc_sample_audio/sample_audio/diva_babbling/diva_babbling-20250224121603542.wav\n",
      "30 /projectnb/busplab/lbullock/sparc_sample_audio/sample_audio/diva_babbling/diva_babbling-20250224122625986.wav\n",
      "31 /projectnb/busplab/lbullock/sparc_sample_audio/sample_audio/diva_babbling/diva_babbling-20250224121811903.wav\n",
      "32 /projectnb/busplab/lbullock/sparc_sample_audio/sample_audio/diva_babbling/diva_babbling-20250224115610407.wav\n",
      "33 /projectnb/busplab/lbullock/sparc_sample_audio/sample_audio/diva_babbling/diva_babbling-20250224122838618.wav\n",
      "34 /projectnb/busplab/lbullock/sparc_sample_audio/sample_audio/diva_babbling/diva_babbling-20250226122004394.wav\n",
      "35 /projectnb/busplab/lbullock/sparc_sample_audio/sample_audio/diva_babbling/diva_babbling-20250224115959719.wav\n",
      "36 /projectnb/busplab/lbullock/sparc_sample_audio/sample_audio/diva_babbling/diva_babbling-20250224115246823.wav\n",
      "37 /projectnb/busplab/lbullock/sparc_sample_audio/sample_audio/diva_babbling/diva_babbling-20250224121913678.wav\n",
      "38 /projectnb/busplab/lbullock/sparc_sample_audio/sample_audio/diva_babbling/diva_babbling-20250224122213965.wav\n",
      "39 /projectnb/busplab/lbullock/sparc_sample_audio/sample_audio/diva_babbling/diva_babbling-20250224120942729.wav\n",
      "40 /projectnb/busplab/lbullock/sparc_sample_audio/sample_audio/diva_babbling/diva_babbling-20250226124212846.wav\n",
      "41 /projectnb/busplab/lbullock/sparc_sample_audio/sample_audio/diva_babbling/diva_babbling-20250224120607604.wav\n",
      "42 /projectnb/busplab/lbullock/sparc_sample_audio/sample_audio/diva_babbling/diva_babbling-20250224122911915.wav\n",
      "43 /projectnb/busplab/lbullock/sparc_sample_audio/sample_audio/diva_babbling/diva_babbling-20250224115622554.wav\n",
      "44 /projectnb/busplab/lbullock/sparc_sample_audio/sample_audio/diva_babbling/diva_babbling-20250226123931263.wav\n",
      "45 /projectnb/busplab/lbullock/sparc_sample_audio/sample_audio/diva_babbling/diva_babbling-20250224115748939.wav\n",
      "46 /projectnb/busplab/lbullock/sparc_sample_audio/sample_audio/diva_babbling/diva_babbling-20250224122855392.wav\n",
      "47 /projectnb/busplab/lbullock/sparc_sample_audio/sample_audio/diva_babbling/diva_babbling-20250224120946834.wav\n",
      "48 /projectnb/busplab/lbullock/sparc_sample_audio/sample_audio/diva_babbling/diva_babbling-20250224122601195.wav\n",
      "49 /projectnb/busplab/lbullock/sparc_sample_audio/sample_audio/diva_babbling/diva_babbling-20250224121130563.wav\n",
      "50 /projectnb/busplab/lbullock/sparc_sample_audio/sample_audio/diva_babbling/diva_babbling-20250224115614414.wav\n",
      "51 /projectnb/busplab/lbullock/sparc_sample_audio/sample_audio/diva_babbling/diva_babbling-20250224122957295.wav\n",
      "52 /projectnb/busplab/lbullock/sparc_sample_audio/sample_audio/diva_babbling/diva_babbling-20250224121053092.wav\n",
      "53 /projectnb/busplab/lbullock/sparc_sample_audio/sample_audio/diva_babbling/diva_babbling-20250224122201304.wav\n",
      "54 /projectnb/busplab/lbullock/sparc_sample_audio/sample_audio/diva_babbling/diva_babbling-20250224120828432.wav\n",
      "55 /projectnb/busplab/lbullock/sparc_sample_audio/sample_audio/diva_babbling/diva_babbling-20250224121418663.wav\n",
      "56 /projectnb/busplab/lbullock/sparc_sample_audio/sample_audio/diva_babbling/diva_babbling-20250224122045203.wav\n",
      "57 /projectnb/busplab/lbullock/sparc_sample_audio/sample_audio/diva_babbling/diva_babbling-20250224115923105.wav\n",
      "58 /projectnb/busplab/lbullock/sparc_sample_audio/sample_audio/diva_babbling/diva_babbling-20250224121917784.wav\n",
      "59 /projectnb/busplab/lbullock/sparc_sample_audio/sample_audio/diva_babbling/diva_babbling-20250224121628266.wav\n",
      "60 /projectnb/busplab/lbullock/sparc_sample_audio/sample_audio/diva_babbling/diva_babbling-20250224115740703.wav\n",
      "61 /projectnb/busplab/lbullock/sparc_sample_audio/sample_audio/diva_babbling/diva_babbling-20250224122226365.wav\n",
      "62 /projectnb/busplab/lbullock/sparc_sample_audio/sample_audio/diva_babbling/diva_babbling-20250224121644595.wav\n",
      "63 /projectnb/busplab/lbullock/sparc_sample_audio/sample_audio/diva_babbling/diva_babbling-20250224121023924.wav\n",
      "64 /projectnb/busplab/lbullock/sparc_sample_audio/sample_audio/diva_babbling/diva_babbling-20250224121443223.wav\n",
      "65 /projectnb/busplab/lbullock/sparc_sample_audio/sample_audio/diva_babbling/diva_babbling-20250224122647064.wav\n",
      "66 /projectnb/busplab/lbullock/sparc_sample_audio/sample_audio/diva_babbling/diva_babbling-20250224121734806.wav\n",
      "67 /projectnb/busplab/lbullock/sparc_sample_audio/sample_audio/diva_babbling/diva_babbling-20250224121503655.wav\n",
      "68 /projectnb/busplab/lbullock/sparc_sample_audio/sample_audio/diva_babbling/diva_babbling-20250224115703610.wav\n",
      "69 /projectnb/busplab/lbullock/sparc_sample_audio/sample_audio/diva_babbling/diva_babbling-20250224120803756.wav\n",
      "70 /projectnb/busplab/lbullock/sparc_sample_audio/sample_audio/diva_babbling/diva_babbling-20250224121836791.wav\n",
      "71 /projectnb/busplab/lbullock/sparc_sample_audio/sample_audio/diva_babbling/diva_babbling-20250224122148738.wav\n",
      "72 /projectnb/busplab/lbullock/sparc_sample_audio/sample_audio/diva_babbling/diva_babbling-20250226124453852.wav\n",
      "73 /projectnb/busplab/lbullock/sparc_sample_audio/sample_audio/diva_babbling/diva_babbling-20250224115528686.wav\n",
      "74 /projectnb/busplab/lbullock/sparc_sample_audio/sample_audio/diva_babbling/diva_babbling-20250224120311840.wav\n",
      "75 /projectnb/busplab/lbullock/sparc_sample_audio/sample_audio/diva_babbling/diva_babbling-20250224120454686.wav\n",
      "76 /projectnb/busplab/lbullock/sparc_sample_audio/sample_audio/diva_babbling/diva_babbling-20250224120007848.wav\n",
      "77 /projectnb/busplab/lbullock/sparc_sample_audio/sample_audio/diva_babbling/diva_babbling-20250224121550693.wav\n",
      "78 /projectnb/busplab/lbullock/sparc_sample_audio/sample_audio/diva_babbling/diva_babbling-20250224121233042.wav\n",
      "79 /projectnb/busplab/lbullock/sparc_sample_audio/sample_audio/diva_babbling/diva_babbling-20250224122805354.wav\n",
      "80 /projectnb/busplab/lbullock/sparc_sample_audio/sample_audio/diva_babbling/diva_babbling-20250224121426891.wav\n",
      "81 /projectnb/busplab/lbullock/sparc_sample_audio/sample_audio/diva_babbling/diva_babbling-20250224123042237.wav\n",
      "82 /projectnb/busplab/lbullock/sparc_sample_audio/sample_audio/diva_babbling/diva_babbling-20250224115307393.wav\n",
      "83 /projectnb/busplab/lbullock/sparc_sample_audio/sample_audio/diva_babbling/diva_babbling-20250224120332181.wav\n",
      "84 /projectnb/busplab/lbullock/sparc_sample_audio/sample_audio/diva_babbling/diva_babbling-20250224120938626.wav\n",
      "85 /projectnb/busplab/lbullock/sparc_sample_audio/sample_audio/diva_babbling/diva_babbling-20250224115821797.wav\n",
      "86 /projectnb/busplab/lbullock/sparc_sample_audio/sample_audio/diva_babbling/diva_babbling-20250224122544781.wav\n",
      "87 /projectnb/busplab/lbullock/sparc_sample_audio/sample_audio/diva_babbling/diva_babbling-20250224123025923.wav\n",
      "88 /projectnb/busplab/lbullock/sparc_sample_audio/sample_audio/diva_babbling/diva_babbling-20250224121705736.wav\n",
      "89 /projectnb/busplab/lbullock/sparc_sample_audio/sample_audio/diva_babbling/diva_babbling-20250224121007295.wav\n",
      "90 /projectnb/busplab/lbullock/sparc_sample_audio/sample_audio/diva_babbling/diva_babbling-20250224120603208.wav\n",
      "91 /projectnb/busplab/lbullock/sparc_sample_audio/sample_audio/diva_babbling/diva_babbling-20250224122605233.wav\n",
      "92 /projectnb/busplab/lbullock/sparc_sample_audio/sample_audio/diva_babbling/diva_babbling-20250224123050472.wav\n",
      "93 /projectnb/busplab/lbullock/sparc_sample_audio/sample_audio/diva_babbling/diva_babbling-20250224120429488.wav\n",
      "94 /projectnb/busplab/lbullock/sparc_sample_audio/sample_audio/diva_babbling/diva_babbling-20250224122110747.wav\n",
      "95 /projectnb/busplab/lbullock/sparc_sample_audio/sample_audio/diva_babbling/diva_babbling-20250224121253696.wav\n",
      "96 /projectnb/busplab/lbullock/sparc_sample_audio/sample_audio/diva_babbling/diva_babbling-20250224115634707.wav\n",
      "97 /projectnb/busplab/lbullock/sparc_sample_audio/sample_audio/diva_babbling/diva_babbling-20250224121529147.wav\n",
      "98 /projectnb/busplab/lbullock/sparc_sample_audio/sample_audio/diva_babbling/diva_babbling-20250224115201226.wav\n",
      "99 /projectnb/busplab/lbullock/sparc_sample_audio/sample_audio/diva_babbling/diva_babbling-20250224120328126.wav\n",
      "100 /projectnb/busplab/lbullock/sparc_sample_audio/sample_audio/diva_babbling/diva_babbling-20250224123021871.wav\n",
      "101 /projectnb/busplab/lbullock/sparc_sample_audio/sample_audio/diva_babbling/diva_babbling-20250224121542167.wav\n",
      "102 /projectnb/busplab/lbullock/sparc_sample_audio/sample_audio/diva_babbling/diva_babbling-20250224122136094.wav\n",
      "103 /projectnb/busplab/lbullock/sparc_sample_audio/sample_audio/diva_babbling/diva_babbling-20250224115537136.wav\n",
      "104 /projectnb/busplab/lbullock/sparc_sample_audio/sample_audio/diva_babbling/diva_babbling-20250224122449844.wav\n",
      "105 /projectnb/busplab/lbullock/sparc_sample_audio/sample_audio/diva_babbling/diva_babbling-20250224120824199.wav\n",
      "106 /projectnb/busplab/lbullock/sparc_sample_audio/sample_audio/diva_babbling/diva_babbling-20250224120620201.wav\n",
      "107 /projectnb/busplab/lbullock/sparc_sample_audio/sample_audio/diva_babbling/diva_babbling-20250224122205317.wav\n",
      "108 /projectnb/busplab/lbullock/sparc_sample_audio/sample_audio/diva_babbling/diva_babbling-20250224120503033.wav\n",
      "109 /projectnb/busplab/lbullock/sparc_sample_audio/sample_audio/diva_babbling/diva_babbling-20250224115805364.wav\n",
      "110 /projectnb/busplab/lbullock/sparc_sample_audio/sample_audio/diva_babbling/diva_babbling-20250224115651345.wav\n",
      "111 /projectnb/busplab/lbullock/sparc_sample_audio/sample_audio/diva_babbling/diva_babbling-20250224121305998.wav\n",
      "112 /projectnb/busplab/lbullock/sparc_sample_audio/sample_audio/diva_babbling/diva_babbling-20250224121237129.wav\n",
      "113 /projectnb/busplab/lbullock/sparc_sample_audio/sample_audio/diva_babbling/diva_babbling-20250226123047153.wav\n",
      "114 /projectnb/busplab/lbullock/sparc_sample_audio/sample_audio/diva_babbling/diva_babbling-20250224122251428.wav\n",
      "115 /projectnb/busplab/lbullock/sparc_sample_audio/sample_audio/diva_babbling/diva_babbling-20250224115340466.wav\n",
      "116 /projectnb/busplab/lbullock/sparc_sample_audio/sample_audio/diva_babbling/diva_babbling-20250226124855904.wav\n",
      "117 /projectnb/busplab/lbullock/sparc_sample_audio/sample_audio/diva_babbling/diva_babbling-20250224121212332.wav\n",
      "118 /projectnb/busplab/lbullock/sparc_sample_audio/sample_audio/diva_babbling/diva_babbling-20250224120549618.wav\n",
      "119 /projectnb/busplab/lbullock/sparc_sample_audio/sample_audio/diva_babbling/diva_babbling-20250224115728496.wav\n",
      "120 /projectnb/busplab/lbullock/sparc_sample_audio/sample_audio/diva_babbling/diva_babbling-20250226123730809.wav\n",
      "Batch update: 0\n",
      "Batch 0: fitting with OLS then SGD\n",
      "121 /projectnb/busplab/lbullock/sparc_sample_audio/sample_audio/diva_babbling/diva_babbling-20250224121620163.wav\n",
      "122 /projectnb/busplab/lbullock/sparc_sample_audio/sample_audio/diva_babbling/diva_babbling-20250224120836631.wav\n",
      "123 /projectnb/busplab/lbullock/sparc_sample_audio/sample_audio/diva_babbling/diva_babbling-20250224123013747.wav\n",
      "124 /projectnb/busplab/lbullock/sparc_sample_audio/sample_audio/diva_babbling/diva_babbling-20250224121636478.wav\n",
      "125 /projectnb/busplab/lbullock/sparc_sample_audio/sample_audio/diva_babbling/diva_babbling-20250224121921891.wav\n",
      "126 /projectnb/busplab/lbullock/sparc_sample_audio/sample_audio/diva_babbling/diva_babbling-20250224121743148.wav\n",
      "127 /projectnb/busplab/lbullock/sparc_sample_audio/sample_audio/diva_babbling/diva_babbling-20250224122659670.wav\n",
      "128 /projectnb/busplab/lbullock/sparc_sample_audio/sample_audio/diva_babbling/diva_babbling-20250224121934587.wav\n",
      "129 /projectnb/busplab/lbullock/sparc_sample_audio/sample_audio/diva_babbling/diva_babbling-20250226125136859.wav\n",
      "130 /projectnb/busplab/lbullock/sparc_sample_audio/sample_audio/diva_babbling/diva_babbling-20250224121208160.wav\n",
      "131 /projectnb/busplab/lbullock/sparc_sample_audio/sample_audio/diva_babbling/diva_babbling-20250224115638846.wav\n",
      "132 /projectnb/busplab/lbullock/sparc_sample_audio/sample_audio/diva_babbling/diva_babbling-20250224121730620.wav\n",
      "133 /projectnb/busplab/lbullock/sparc_sample_audio/sample_audio/diva_babbling/diva_babbling-20250224132459146.wav\n",
      "134 /projectnb/busplab/lbullock/sparc_sample_audio/sample_audio/diva_babbling/diva_babbling-20250226122208059.wav\n",
      "135 /projectnb/busplab/lbullock/sparc_sample_audio/sample_audio/diva_babbling/diva_babbling-20250224120336265.wav\n",
      "136 /projectnb/busplab/lbullock/sparc_sample_audio/sample_audio/diva_babbling/diva_babbling-20250224121849012.wav\n",
      "137 /projectnb/busplab/lbullock/sparc_sample_audio/sample_audio/diva_babbling/diva_babbling-20250224121726398.wav\n",
      "138 /projectnb/busplab/lbullock/sparc_sample_audio/sample_audio/diva_babbling/diva_babbling-20250224122428809.wav\n",
      "139 /projectnb/busplab/lbullock/sparc_sample_audio/sample_audio/diva_babbling/diva_babbling-20250224115421899.wav\n",
      "140 /projectnb/busplab/lbullock/sparc_sample_audio/sample_audio/diva_babbling/diva_babbling-20250224122238922.wav\n",
      "141 /projectnb/busplab/lbullock/sparc_sample_audio/sample_audio/diva_babbling/diva_babbling-20250224121122287.wav\n",
      "142 /projectnb/busplab/lbullock/sparc_sample_audio/sample_audio/diva_babbling/diva_babbling-20250224121853053.wav\n",
      "143 /projectnb/busplab/lbullock/sparc_sample_audio/sample_audio/diva_babbling/diva_babbling-20250224115503462.wav\n",
      "144 /projectnb/busplab/lbullock/sparc_sample_audio/sample_audio/diva_babbling/diva_babbling-20250224120141936.wav\n",
      "145 /projectnb/busplab/lbullock/sparc_sample_audio/sample_audio/diva_babbling/diva_babbling-20250224120255462.wav\n",
      "146 /projectnb/busplab/lbullock/sparc_sample_audio/sample_audio/diva_babbling/diva_babbling-20250224121546447.wav\n",
      "147 /projectnb/busplab/lbullock/sparc_sample_audio/sample_audio/diva_babbling/diva_babbling-20250224120206453.wav\n",
      "148 /projectnb/busplab/lbullock/sparc_sample_audio/sample_audio/diva_babbling/diva_babbling-20250224121414141.wav\n",
      "149 /projectnb/busplab/lbullock/sparc_sample_audio/sample_audio/diva_babbling/diva_babbling-20250224115545503.wav\n",
      "150 /projectnb/busplab/lbullock/sparc_sample_audio/sample_audio/diva_babbling/diva_babbling-20250224121435039.wav\n",
      "151 /projectnb/busplab/lbullock/sparc_sample_audio/sample_audio/diva_babbling/diva_babbling-20250224121709816.wav\n",
      "152 /projectnb/busplab/lbullock/sparc_sample_audio/sample_audio/diva_babbling/diva_babbling-20250224121713936.wav\n",
      "153 /projectnb/busplab/lbullock/sparc_sample_audio/sample_audio/diva_babbling/diva_babbling-20250224122144687.wav\n",
      "154 /projectnb/busplab/lbullock/sparc_sample_audio/sample_audio/diva_babbling/diva_babbling-20250224123034071.wav\n",
      "155 /projectnb/busplab/lbullock/sparc_sample_audio/sample_audio/diva_babbling/diva_babbling-20250226125016338.wav\n",
      "156 /projectnb/busplab/lbullock/sparc_sample_audio/sample_audio/diva_babbling/diva_babbling-20250224121036629.wav\n",
      "157 /projectnb/busplab/lbullock/sparc_sample_audio/sample_audio/diva_babbling/diva_babbling-20250224120921863.wav\n",
      "158 /projectnb/busplab/lbullock/sparc_sample_audio/sample_audio/diva_babbling/diva_babbling-20250224122337345.wav\n",
      "159 /projectnb/busplab/lbullock/sparc_sample_audio/sample_audio/diva_babbling/diva_babbling-20250224121857106.wav\n",
      "160 /projectnb/busplab/lbullock/sparc_sample_audio/sample_audio/diva_babbling/diva_babbling-20250224115647247.wav\n",
      "161 /projectnb/busplab/lbullock/sparc_sample_audio/sample_audio/diva_babbling/diva_babbling-20250224115618484.wav\n",
      "162 /projectnb/busplab/lbullock/sparc_sample_audio/sample_audio/diva_babbling/diva_babbling-20250224120537129.wav\n",
      "163 /projectnb/busplab/lbullock/sparc_sample_audio/sample_audio/diva_babbling/diva_babbling-20250224120511313.wav\n",
      "164 /projectnb/busplab/lbullock/sparc_sample_audio/sample_audio/diva_babbling/diva_babbling-20250224120848786.wav\n",
      "165 /projectnb/busplab/lbullock/sparc_sample_audio/sample_audio/diva_babbling/diva_babbling-20250224115413508.wav\n",
      "166 /projectnb/busplab/lbullock/sparc_sample_audio/sample_audio/diva_babbling/diva_babbling-20250226122128047.wav\n",
      "167 /projectnb/busplab/lbullock/sparc_sample_audio/sample_audio/diva_babbling/diva_babbling-20250224115910937.wav\n",
      "168 /projectnb/busplab/lbullock/sparc_sample_audio/sample_audio/diva_babbling/diva_babbling-20250224120109014.wav\n",
      "169 /projectnb/busplab/lbullock/sparc_sample_audio/sample_audio/diva_babbling/diva_babbling-20250224121616079.wav\n",
      "170 /projectnb/busplab/lbullock/sparc_sample_audio/sample_audio/diva_babbling/diva_babbling-20250224121228910.wav\n",
      "171 /projectnb/busplab/lbullock/sparc_sample_audio/sample_audio/diva_babbling/diva_babbling-20250226124253055.wav\n",
      "172 /projectnb/busplab/lbullock/sparc_sample_audio/sample_audio/diva_babbling/diva_babbling-20250224122324797.wav\n",
      "173 /projectnb/busplab/lbullock/sparc_sample_audio/sample_audio/diva_babbling/diva_babbling-20250224120036312.wav\n",
      "174 /projectnb/busplab/lbullock/sparc_sample_audio/sample_audio/diva_babbling/diva_babbling-20250224123009600.wav\n",
      "175 /projectnb/busplab/lbullock/sparc_sample_audio/sample_audio/diva_babbling/diva_babbling-20250226123529453.wav\n",
      "176 /projectnb/busplab/lbullock/sparc_sample_audio/sample_audio/diva_babbling/diva_babbling-20250224122928213.wav\n",
      "177 /projectnb/busplab/lbullock/sparc_sample_audio/sample_audio/diva_babbling/diva_babbling-20250224122259651.wav\n",
      "178 /projectnb/busplab/lbullock/sparc_sample_audio/sample_audio/diva_babbling/diva_babbling-20250224120852884.wav\n",
      "179 /projectnb/busplab/lbullock/sparc_sample_audio/sample_audio/diva_babbling/diva_babbling-20250224121909601.wav\n",
      "180 /projectnb/busplab/lbullock/sparc_sample_audio/sample_audio/diva_babbling/diva_babbling-20250224115259196.wav\n",
      "181 /projectnb/busplab/lbullock/sparc_sample_audio/sample_audio/diva_babbling/diva_babbling-20250224120048522.wav\n",
      "182 /projectnb/busplab/lbullock/sparc_sample_audio/sample_audio/diva_babbling/diva_babbling-20250226122447777.wav\n",
      "183 /projectnb/busplab/lbullock/sparc_sample_audio/sample_audio/diva_babbling/diva_babbling-20250224115459265.wav\n",
      "184 /projectnb/busplab/lbullock/sparc_sample_audio/sample_audio/diva_babbling/diva_babbling-20250224122454289.wav\n",
      "185 /projectnb/busplab/lbullock/sparc_sample_audio/sample_audio/diva_babbling/diva_babbling-20250224122058129.wav\n",
      "186 /projectnb/busplab/lbullock/sparc_sample_audio/sample_audio/diva_babbling/diva_babbling-20250224120024111.wav\n",
      "187 /projectnb/busplab/lbullock/sparc_sample_audio/sample_audio/diva_babbling/diva_babbling-20250224121101465.wav\n",
      "188 /projectnb/busplab/lbullock/sparc_sample_audio/sample_audio/diva_babbling/diva_babbling-20250224120532773.wav\n",
      "189 /projectnb/busplab/lbullock/sparc_sample_audio/sample_audio/diva_babbling/diva_babbling-20250224122234844.wav\n",
      "190 /projectnb/busplab/lbullock/sparc_sample_audio/sample_audio/diva_babbling/diva_babbling-20250224121555046.wav\n",
      "191 /projectnb/busplab/lbullock/sparc_sample_audio/sample_audio/diva_babbling/diva_babbling-20250224122834374.wav\n",
      "192 /projectnb/busplab/lbullock/sparc_sample_audio/sample_audio/diva_babbling/diva_babbling-20250224120441741.wav\n",
      "193 /projectnb/busplab/lbullock/sparc_sample_audio/sample_audio/diva_babbling/diva_babbling-20250224120421338.wav\n",
      "194 /projectnb/busplab/lbullock/sparc_sample_audio/sample_audio/diva_babbling/diva_babbling-20250224121028012.wav\n",
      "195 /projectnb/busplab/lbullock/sparc_sample_audio/sample_audio/diva_babbling/diva_babbling-20250224122859514.wav\n",
      "196 /projectnb/busplab/lbullock/sparc_sample_audio/sample_audio/diva_babbling/diva_babbling-20250224122557200.wav\n",
      "197 /projectnb/busplab/lbullock/sparc_sample_audio/sample_audio/diva_babbling/diva_babbling-20250224122842827.wav\n",
      "198 /projectnb/busplab/lbullock/sparc_sample_audio/sample_audio/diva_babbling/diva_babbling-20250224121533436.wav\n",
      "199 /projectnb/busplab/lbullock/sparc_sample_audio/sample_audio/diva_babbling/diva_babbling-20250224115303298.wav\n",
      "200 /projectnb/busplab/lbullock/sparc_sample_audio/sample_audio/diva_babbling/diva_babbling-20250224120344417.wav\n",
      "201 /projectnb/busplab/lbullock/sparc_sample_audio/sample_audio/diva_babbling/diva_babbling-20250224120856944.wav\n",
      "202 /projectnb/busplab/lbullock/sparc_sample_audio/sample_audio/diva_babbling/diva_babbling-20250224121951352.wav\n",
      "203 /projectnb/busplab/lbullock/sparc_sample_audio/sample_audio/diva_babbling/diva_babbling-20250224120307731.wav\n",
      "204 /projectnb/busplab/lbullock/sparc_sample_audio/sample_audio/diva_babbling/diva_babbling-20250224122638522.wav\n",
      "205 /projectnb/busplab/lbullock/sparc_sample_audio/sample_audio/diva_babbling/diva_babbling-20250224120913692.wav\n",
      "206 /projectnb/busplab/lbullock/sparc_sample_audio/sample_audio/diva_babbling/diva_babbling-20250224115446622.wav\n",
      "207 /projectnb/busplab/lbullock/sparc_sample_audio/sample_audio/diva_babbling/diva_babbling-20250224122157062.wav\n",
      "208 /projectnb/busplab/lbullock/sparc_sample_audio/sample_audio/diva_babbling/diva_babbling-20250226124333324.wav\n",
      "209 /projectnb/busplab/lbullock/sparc_sample_audio/sample_audio/diva_babbling/diva_babbling-20250226124051895.wav\n",
      "210 /projectnb/busplab/lbullock/sparc_sample_audio/sample_audio/diva_babbling/diva_babbling-20250224120016042.wav\n",
      "211 /projectnb/busplab/lbullock/sparc_sample_audio/sample_audio/diva_babbling/diva_babbling-20250224121832648.wav\n",
      "212 /projectnb/busplab/lbullock/sparc_sample_audio/sample_audio/diva_babbling/diva_babbling-20250224120408766.wav\n",
      "213 /projectnb/busplab/lbullock/sparc_sample_audio/sample_audio/diva_babbling/diva_babbling-20250224115348774.wav\n",
      "214 /projectnb/busplab/lbullock/sparc_sample_audio/sample_audio/diva_babbling/diva_babbling-20250224120052608.wav\n",
      "215 /projectnb/busplab/lbullock/sparc_sample_audio/sample_audio/diva_babbling/diva_babbling-20250224122712078.wav\n",
      "216 /projectnb/busplab/lbullock/sparc_sample_audio/sample_audio/diva_babbling/diva_babbling-20250224120714222.wav\n",
      "217 /projectnb/busplab/lbullock/sparc_sample_audio/sample_audio/diva_babbling/diva_babbling-20250224122536496.wav\n",
      "218 /projectnb/busplab/lbullock/sparc_sample_audio/sample_audio/diva_babbling/diva_babbling-20250224122752920.wav\n",
      "219 /projectnb/busplab/lbullock/sparc_sample_audio/sample_audio/diva_babbling/diva_babbling-20250224121955334.wav\n",
      "220 /projectnb/busplab/lbullock/sparc_sample_audio/sample_audio/diva_babbling/diva_babbling-20250224115809507.wav\n",
      "221 /projectnb/busplab/lbullock/sparc_sample_audio/sample_audio/diva_babbling/diva_babbling-20250224115707782.wav\n",
      "222 /projectnb/busplab/lbullock/sparc_sample_audio/sample_audio/diva_babbling/diva_babbling-20250226123810925.wav\n",
      "223 /projectnb/busplab/lbullock/sparc_sample_audio/sample_audio/diva_babbling/diva_babbling-20250224122609424.wav\n",
      "224 /projectnb/busplab/lbullock/sparc_sample_audio/sample_audio/diva_babbling/diva_babbling-20250224120628657.wav\n",
      "225 /projectnb/busplab/lbullock/sparc_sample_audio/sample_audio/diva_babbling/diva_babbling-20250226122807645.wav\n",
      "Batch update: 1\n",
      "Batch >0: fitting with SGD\n",
      "226 /projectnb/busplab/lbullock/sparc_sample_audio/sample_audio/diva_babbling/diva_babbling-20250224122316134.wav\n",
      "227 /projectnb/busplab/lbullock/sparc_sample_audio/sample_audio/diva_babbling/diva_babbling-20250224115438397.wav\n",
      "228 /projectnb/busplab/lbullock/sparc_sample_audio/sample_audio/diva_babbling/diva_babbling-20250224122415631.wav\n",
      "229 /projectnb/busplab/lbullock/sparc_sample_audio/sample_audio/diva_babbling/diva_babbling-20250224120202391.wav\n",
      "230 /projectnb/busplab/lbullock/sparc_sample_audio/sample_audio/diva_babbling/diva_babbling-20250224121048997.wav\n",
      "231 /projectnb/busplab/lbullock/sparc_sample_audio/sample_audio/diva_babbling/diva_babbling-20250224121844996.wav\n",
      "232 /projectnb/busplab/lbullock/sparc_sample_audio/sample_audio/diva_babbling/diva_babbling-20250226122247926.wav\n",
      "233 /projectnb/busplab/lbullock/sparc_sample_audio/sample_audio/diva_babbling/diva_babbling-20250224115842331.wav\n",
      "234 /projectnb/busplab/lbullock/sparc_sample_audio/sample_audio/diva_babbling/diva_babbling-20250224123017833.wav\n",
      "235 /projectnb/busplab/lbullock/sparc_sample_audio/sample_audio/diva_babbling/diva_babbling-20250224120524031.wav\n",
      "236 /projectnb/busplab/lbullock/sparc_sample_audio/sample_audio/diva_babbling/diva_babbling-20250224120718250.wav\n",
      "237 /projectnb/busplab/lbullock/sparc_sample_audio/sample_audio/diva_babbling/diva_babbling-20250224120702041.wav\n",
      "238 /projectnb/busplab/lbullock/sparc_sample_audio/sample_audio/diva_babbling/diva_babbling-20250224115813609.wav\n",
      "239 /projectnb/busplab/lbullock/sparc_sample_audio/sample_audio/diva_babbling/diva_babbling-20250224121422789.wav\n",
      "240 /projectnb/busplab/lbullock/sparc_sample_audio/sample_audio/diva_babbling/diva_babbling-20250224121947126.wav\n",
      "241 /projectnb/busplab/lbullock/sparc_sample_audio/sample_audio/diva_babbling/diva_babbling-20250224122209716.wav\n",
      "242 /projectnb/busplab/lbullock/sparc_sample_audio/sample_audio/diva_babbling/diva_babbling-20250224121516301.wav\n",
      "243 /projectnb/busplab/lbullock/sparc_sample_audio/sample_audio/diva_babbling/diva_babbling-20250224120759648.wav\n",
      "244 /projectnb/busplab/lbullock/sparc_sample_audio/sample_audio/diva_babbling/diva_babbling-20250224123001479.wav\n",
      "245 /projectnb/busplab/lbullock/sparc_sample_audio/sample_audio/diva_babbling/diva_babbling-20250224120637068.wav\n",
      "246 /projectnb/busplab/lbullock/sparc_sample_audio/sample_audio/diva_babbling/diva_babbling-20250224120056646.wav\n",
      "247 /projectnb/busplab/lbullock/sparc_sample_audio/sample_audio/diva_babbling/diva_babbling-20250224121326675.wav\n",
      "248 /projectnb/busplab/lbullock/sparc_sample_audio/sample_audio/diva_babbling/diva_babbling-20250224115906881.wav\n",
      "249 /projectnb/busplab/lbullock/sparc_sample_audio/sample_audio/diva_babbling/diva_babbling-20250224121738939.wav\n",
      "250 /projectnb/busplab/lbullock/sparc_sample_audio/sample_audio/diva_babbling/diva_babbling-20250224121409718.wav\n",
      "251 /projectnb/busplab/lbullock/sparc_sample_audio/sample_audio/diva_babbling/diva_babbling-20250224115225611.wav\n",
      "252 /projectnb/busplab/lbullock/sparc_sample_audio/sample_audio/diva_babbling/diva_babbling-20250224120129606.wav\n",
      "253 /projectnb/busplab/lbullock/sparc_sample_audio/sample_audio/diva_babbling/diva_babbling-20250224122630171.wav\n",
      "254 /projectnb/busplab/lbullock/sparc_sample_audio/sample_audio/diva_babbling/diva_babbling-20250224122303824.wav\n",
      "255 /projectnb/busplab/lbullock/sparc_sample_audio/sample_audio/diva_babbling/diva_babbling-20250224120324046.wav\n",
      "256 /projectnb/busplab/lbullock/sparc_sample_audio/sample_audio/diva_babbling/diva_babbling-20250224122402750.wav\n",
      "257 /projectnb/busplab/lbullock/sparc_sample_audio/sample_audio/diva_babbling/diva_babbling-20250224122407014.wav\n",
      "258 /projectnb/busplab/lbullock/sparc_sample_audio/sample_audio/diva_babbling/diva_babbling-20250226122046081.wav\n",
      "259 /projectnb/busplab/lbullock/sparc_sample_audio/sample_audio/diva_babbling/diva_babbling-20250226124735155.wav\n",
      "260 /projectnb/busplab/lbullock/sparc_sample_audio/sample_audio/diva_babbling/diva_babbling-20250224115319670.wav\n",
      "261 /projectnb/busplab/lbullock/sparc_sample_audio/sample_audio/diva_babbling/diva_babbling-20250224122354274.wav\n",
      "262 /projectnb/busplab/lbullock/sparc_sample_audio/sample_audio/diva_babbling/diva_babbling-20250224122345727.wav\n",
      "263 /projectnb/busplab/lbullock/sparc_sample_audio/sample_audio/diva_babbling/diva_babbling-20250226123650618.wav\n",
      "264 /projectnb/busplab/lbullock/sparc_sample_audio/sample_audio/diva_babbling/diva_babbling-20250224122732503.wav\n",
      "265 /projectnb/busplab/lbullock/sparc_sample_audio/sample_audio/diva_babbling/diva_babbling-20250224121559404.wav\n",
      "266 /projectnb/busplab/lbullock/sparc_sample_audio/sample_audio/diva_babbling/diva_babbling-20250224132540547.wav\n",
      "267 /projectnb/busplab/lbullock/sparc_sample_audio/sample_audio/diva_babbling/diva_babbling-20250224115724376.wav\n",
      "268 /projectnb/busplab/lbullock/sparc_sample_audio/sample_audio/diva_babbling/diva_babbling-20250224115914969.wav\n",
      "269 /projectnb/busplab/lbullock/sparc_sample_audio/sample_audio/diva_babbling/diva_babbling-20250224122032672.wav\n",
      "270 /projectnb/busplab/lbullock/sparc_sample_audio/sample_audio/diva_babbling/diva_babbling-20250224121926079.wav\n",
      "271 /projectnb/busplab/lbullock/sparc_sample_audio/sample_audio/diva_babbling/diva_babbling-20250224115955711.wav\n",
      "272 /projectnb/busplab/lbullock/sparc_sample_audio/sample_audio/diva_babbling/diva_babbling-20250224120541392.wav\n",
      "273 /projectnb/busplab/lbullock/sparc_sample_audio/sample_audio/diva_babbling/diva_babbling-20250224122707876.wav\n",
      "274 /projectnb/busplab/lbullock/sparc_sample_audio/sample_audio/diva_babbling/diva_babbling-20250224120315914.wav\n",
      "275 /projectnb/busplab/lbullock/sparc_sample_audio/sample_audio/diva_babbling/diva_babbling-20250224121143020.wav\n",
      "276 /projectnb/busplab/lbullock/sparc_sample_audio/sample_audio/diva_babbling/diva_babbling-20250224120230908.wav\n",
      "277 /projectnb/busplab/lbullock/sparc_sample_audio/sample_audio/diva_babbling/diva_babbling-20250224120243177.wav\n",
      "278 /projectnb/busplab/lbullock/sparc_sample_audio/sample_audio/diva_babbling/diva_babbling-20250224120832604.wav\n",
      "279 /projectnb/busplab/lbullock/sparc_sample_audio/sample_audio/diva_babbling/diva_babbling-20250224121901370.wav\n",
      "280 /projectnb/busplab/lbullock/sparc_sample_audio/sample_audio/diva_babbling/diva_babbling-20250224120615931.wav\n",
      "281 /projectnb/busplab/lbullock/sparc_sample_audio/sample_audio/diva_babbling/diva_babbling-20250224115229853.wav\n",
      "282 /projectnb/busplab/lbullock/sparc_sample_audio/sample_audio/diva_babbling/diva_babbling-20250224121938640.wav\n",
      "283 /projectnb/busplab/lbullock/sparc_sample_audio/sample_audio/diva_babbling/diva_babbling-20250224120348436.wav\n",
      "284 /projectnb/busplab/lbullock/sparc_sample_audio/sample_audio/diva_babbling/diva_babbling-20250224122333051.wav\n",
      "285 /projectnb/busplab/lbullock/sparc_sample_audio/sample_audio/diva_babbling/diva_babbling-20250226123207182.wav\n",
      "286 /projectnb/busplab/lbullock/sparc_sample_audio/sample_audio/diva_babbling/diva_babbling-20250224115830007.wav\n",
      "287 /projectnb/busplab/lbullock/sparc_sample_audio/sample_audio/diva_babbling/diva_babbling-20250224121220623.wav\n",
      "288 /projectnb/busplab/lbullock/sparc_sample_audio/sample_audio/diva_babbling/diva_babbling-20250224121335259.wav\n",
      "289 /projectnb/busplab/lbullock/sparc_sample_audio/sample_audio/diva_babbling/diva_babbling-20250224121930308.wav\n",
      "290 /projectnb/busplab/lbullock/sparc_sample_audio/sample_audio/diva_babbling/diva_babbling-20250224115430242.wav\n",
      "291 /projectnb/busplab/lbullock/sparc_sample_audio/sample_audio/diva_babbling/diva_babbling-20250224122028506.wav\n",
      "292 /projectnb/busplab/lbullock/sparc_sample_audio/sample_audio/diva_babbling/diva_babbling-20250224115744850.wav\n",
      "293 /projectnb/busplab/lbullock/sparc_sample_audio/sample_audio/diva_babbling/diva_babbling-20250224120247234.wav\n",
      "294 /projectnb/busplab/lbullock/sparc_sample_audio/sample_audio/diva_babbling/diva_babbling-20250224121640555.wav\n",
      "295 /projectnb/busplab/lbullock/sparc_sample_audio/sample_audio/diva_babbling/diva_babbling-20250224122621860.wav\n",
      "296 /projectnb/busplab/lbullock/sparc_sample_audio/sample_audio/diva_babbling/diva_babbling-20250224122549036.wav\n",
      "297 /projectnb/busplab/lbullock/sparc_sample_audio/sample_audio/diva_babbling/diva_babbling-20250224122053984.wav\n",
      "298 /projectnb/busplab/lbullock/sparc_sample_audio/sample_audio/diva_babbling/diva_babbling-20250224122247276.wav\n",
      "299 /projectnb/busplab/lbullock/sparc_sample_audio/sample_audio/diva_babbling/diva_babbling-20250224120146036.wav\n",
      "300 /projectnb/busplab/lbullock/sparc_sample_audio/sample_audio/diva_babbling/diva_babbling-20250224121824411.wav\n",
      "301 /projectnb/busplab/lbullock/sparc_sample_audio/sample_audio/diva_babbling/diva_babbling-20250224122003447.wav\n",
      "302 /projectnb/busplab/lbullock/sparc_sample_audio/sample_audio/diva_babbling/diva_babbling-20250224120934528.wav\n",
      "303 /projectnb/busplab/lbullock/sparc_sample_audio/sample_audio/diva_babbling/diva_babbling-20250224120117333.wav\n",
      "304 /projectnb/busplab/lbullock/sparc_sample_audio/sample_audio/diva_babbling/diva_babbling-20250224121301861.wav\n",
      "305 /projectnb/busplab/lbullock/sparc_sample_audio/sample_audio/diva_babbling/diva_babbling-20250226122727970.wav\n",
      "306 /projectnb/busplab/lbullock/sparc_sample_audio/sample_audio/diva_babbling/diva_babbling-20250224120400583.wav\n",
      "307 /projectnb/busplab/lbullock/sparc_sample_audio/sample_audio/diva_babbling/diva_babbling-20250224120303629.wav\n",
      "308 /projectnb/busplab/lbullock/sparc_sample_audio/sample_audio/diva_babbling/diva_babbling-20250224132826990.wav\n",
      "309 /projectnb/busplab/lbullock/sparc_sample_audio/sample_audio/diva_babbling/diva_babbling-20250224120137848.wav\n",
      "310 /projectnb/busplab/lbullock/sparc_sample_audio/sample_audio/diva_babbling/diva_babbling-20250224115209379.wav\n",
      "311 /projectnb/busplab/lbullock/sparc_sample_audio/sample_audio/diva_babbling/diva_babbling-20250224120558750.wav\n",
      "312 /projectnb/busplab/lbullock/sparc_sample_audio/sample_audio/diva_babbling/diva_babbling-20250224115626599.wav\n",
      "313 /projectnb/busplab/lbullock/sparc_sample_audio/sample_audio/diva_babbling/diva_babbling-20250224122411431.wav\n",
      "314 /projectnb/busplab/lbullock/sparc_sample_audio/sample_audio/diva_babbling/diva_babbling-20250224115558089.wav\n",
      "315 /projectnb/busplab/lbullock/sparc_sample_audio/sample_audio/diva_babbling/diva_babbling-20250224120012036.wav\n",
      "316 /projectnb/busplab/lbullock/sparc_sample_audio/sample_audio/diva_babbling/diva_babbling-20250226122926782.wav\n",
      "317 /projectnb/busplab/lbullock/sparc_sample_audio/sample_audio/diva_babbling/diva_babbling-20250224122255517.wav\n",
      "318 /projectnb/busplab/lbullock/sparc_sample_audio/sample_audio/diva_babbling/diva_babbling-20250224132622067.wav\n",
      "319 /projectnb/busplab/lbullock/sparc_sample_audio/sample_audio/diva_babbling/diva_babbling-20250224115238374.wav\n",
      "320 /projectnb/busplab/lbullock/sparc_sample_audio/sample_audio/diva_babbling/diva_babbling-20250224122049608.wav\n",
      "321 /projectnb/busplab/lbullock/sparc_sample_audio/sample_audio/diva_babbling/diva_babbling-20250224122703766.wav\n",
      "322 /projectnb/busplab/lbullock/sparc_sample_audio/sample_audio/diva_babbling/diva_babbling-20250224120104964.wav\n",
      "323 /projectnb/busplab/lbullock/sparc_sample_audio/sample_audio/diva_babbling/diva_babbling-20250224121057247.wav\n",
      "324 /projectnb/busplab/lbullock/sparc_sample_audio/sample_audio/diva_babbling/diva_babbling-20250224121040817.wav\n",
      "325 /projectnb/busplab/lbullock/sparc_sample_audio/sample_audio/diva_babbling/diva_babbling-20250224120917769.wav\n",
      "326 /projectnb/busplab/lbullock/sparc_sample_audio/sample_audio/diva_babbling/diva_babbling-20250224122553137.wav\n",
      "327 /projectnb/busplab/lbullock/sparc_sample_audio/sample_audio/diva_babbling/diva_babbling-20250224115902747.wav\n",
      "328 /projectnb/busplab/lbullock/sparc_sample_audio/sample_audio/diva_babbling/diva_babbling-20250224115834117.wav\n",
      "329 /projectnb/busplab/lbullock/sparc_sample_audio/sample_audio/diva_babbling/diva_babbling-20250224120901107.wav\n",
      "330 /projectnb/busplab/lbullock/sparc_sample_audio/sample_audio/diva_babbling/diva_babbling-20250226124815488.wav\n",
      "331 /projectnb/busplab/lbullock/sparc_sample_audio/sample_audio/diva_babbling/diva_babbling-20250224121330882.wav\n",
      "332 /projectnb/busplab/lbullock/sparc_sample_audio/sample_audio/diva_babbling/diva_babbling-20250224122119045.wav\n",
      "333 /projectnb/busplab/lbullock/sparc_sample_audio/sample_audio/diva_babbling/diva_babbling-20250224120437598.wav\n",
      "334 /projectnb/busplab/lbullock/sparc_sample_audio/sample_audio/diva_babbling/diva_babbling-20250224120641305.wav\n",
      "335 /projectnb/busplab/lbullock/sparc_sample_audio/sample_audio/diva_babbling/diva_babbling-20250224121105671.wav\n",
      "336 /projectnb/busplab/lbullock/sparc_sample_audio/sample_audio/diva_babbling/diva_babbling-20250224122519667.wav\n",
      "337 /projectnb/busplab/lbullock/sparc_sample_audio/sample_audio/diva_babbling/diva_babbling-20250224123054624.wav\n",
      "338 /projectnb/busplab/lbullock/sparc_sample_audio/sample_audio/diva_babbling/diva_babbling-20250224121722222.wav\n",
      "339 /projectnb/busplab/lbullock/sparc_sample_audio/sample_audio/diva_babbling/diva_babbling-20250224122230734.wav\n",
      "Batch update: 2\n",
      "Batch >0: fitting with SGD\n",
      "340 /projectnb/busplab/lbullock/sparc_sample_audio/sample_audio/diva_babbling/diva_babbling-20250224122817795.wav\n",
      "341 /projectnb/busplab/lbullock/sparc_sample_audio/sample_audio/diva_babbling/diva_babbling-20250224122011817.wav\n",
      "342 /projectnb/busplab/lbullock/sparc_sample_audio/sample_audio/diva_babbling/diva_babbling-20250224120210505.wav\n",
      "343 /projectnb/busplab/lbullock/sparc_sample_audio/sample_audio/diva_babbling/diva_babbling-20250224122953051.wav\n",
      "344 /projectnb/busplab/lbullock/sparc_sample_audio/sample_audio/diva_babbling/diva_babbling-20250224115838236.wav\n",
      "345 /projectnb/busplab/lbullock/sparc_sample_audio/sample_audio/diva_babbling/diva_babbling-20250224115221495.wav\n",
      "346 /projectnb/busplab/lbullock/sparc_sample_audio/sample_audio/diva_babbling/diva_babbling-20250224115757114.wav\n",
      "347 /projectnb/busplab/lbullock/sparc_sample_audio/sample_audio/diva_babbling/diva_babbling-20250224122222257.wav\n",
      "348 /projectnb/busplab/lbullock/sparc_sample_audio/sample_audio/diva_babbling/diva_babbling-20250224122433287.wav\n",
      "349 /projectnb/busplab/lbullock/sparc_sample_audio/sample_audio/diva_babbling/diva_babbling-20250224115405333.wav\n",
      "350 /projectnb/busplab/lbullock/sparc_sample_audio/sample_audio/diva_babbling/diva_babbling-20250224122424407.wav\n",
      "351 /projectnb/busplab/lbullock/sparc_sample_audio/sample_audio/diva_babbling/diva_babbling-20250226125056548.wav\n",
      "352 /projectnb/busplab/lbullock/sparc_sample_audio/sample_audio/diva_babbling/diva_babbling-20250224122642724.wav\n",
      "353 /projectnb/busplab/lbullock/sparc_sample_audio/sample_audio/diva_babbling/diva_babbling-20250224115753003.wav\n",
      "354 /projectnb/busplab/lbullock/sparc_sample_audio/sample_audio/diva_babbling/diva_babbling-20250224121203932.wav\n",
      "355 /projectnb/busplab/lbullock/sparc_sample_audio/sample_audio/diva_babbling/diva_babbling-20250224121751330.wav\n",
      "356 /projectnb/busplab/lbullock/sparc_sample_audio/sample_audio/diva_babbling/diva_babbling-20250224120239099.wav\n",
      "357 /projectnb/busplab/lbullock/sparc_sample_audio/sample_audio/diva_babbling/diva_babbling-20250224115919033.wav\n",
      "358 /projectnb/busplab/lbullock/sparc_sample_audio/sample_audio/diva_babbling/diva_babbling-20250224115520265.wav\n",
      "359 /projectnb/busplab/lbullock/sparc_sample_audio/sample_audio/diva_babbling/diva_babbling-20250224120909495.wav\n",
      "360 /projectnb/busplab/lbullock/sparc_sample_audio/sample_audio/diva_babbling/diva_babbling-20250224122358357.wav\n",
      "361 /projectnb/busplab/lbullock/sparc_sample_audio/sample_audio/diva_babbling/diva_babbling-20250224121755474.wav\n",
      "362 /projectnb/busplab/lbullock/sparc_sample_audio/sample_audio/diva_babbling/diva_babbling-20250224123119420.wav\n",
      "363 /projectnb/busplab/lbullock/sparc_sample_audio/sample_audio/diva_babbling/diva_babbling-20250224115344625.wav\n",
      "364 /projectnb/busplab/lbullock/sparc_sample_audio/sample_audio/diva_babbling/diva_babbling-20250224115716076.wav\n",
      "365 /projectnb/busplab/lbullock/sparc_sample_audio/sample_audio/diva_babbling/diva_babbling-20250224115507724.wav\n",
      "366 /projectnb/busplab/lbullock/sparc_sample_audio/sample_audio/diva_babbling/diva_babbling-20250224122040951.wav\n",
      "367 /projectnb/busplab/lbullock/sparc_sample_audio/sample_audio/diva_babbling/diva_babbling-20250224121520642.wav\n",
      "368 /projectnb/busplab/lbullock/sparc_sample_audio/sample_audio/diva_babbling/diva_babbling-20250224115854515.wav\n",
      "369 /projectnb/busplab/lbullock/sparc_sample_audio/sample_audio/diva_babbling/diva_babbling-20250224120632841.wav\n",
      "370 /projectnb/busplab/lbullock/sparc_sample_audio/sample_audio/diva_babbling/diva_babbling-20250224122736611.wav\n",
      "371 /projectnb/busplab/lbullock/sparc_sample_audio/sample_audio/diva_babbling/diva_babbling-20250224120158319.wav\n",
      "372 /projectnb/busplab/lbullock/sparc_sample_audio/sample_audio/diva_babbling/diva_babbling-20250224122123276.wav\n",
      "373 /projectnb/busplab/lbullock/sparc_sample_audio/sample_audio/diva_babbling/diva_babbling-20250224120734923.wav\n",
      "374 /projectnb/busplab/lbullock/sparc_sample_audio/sample_audio/diva_babbling/diva_babbling-20250224120545480.wav\n",
      "375 /projectnb/busplab/lbullock/sparc_sample_audio/sample_audio/diva_babbling/diva_babbling-20250224120234969.wav\n",
      "376 /projectnb/busplab/lbullock/sparc_sample_audio/sample_audio/diva_babbling/diva_babbling-20250224122243160.wav\n",
      "377 /projectnb/busplab/lbullock/sparc_sample_audio/sample_audio/diva_babbling/diva_babbling-20250224123005525.wav\n",
      "378 /projectnb/busplab/lbullock/sparc_sample_audio/sample_audio/diva_babbling/diva_babbling-20250224120959113.wav\n",
      "379 /projectnb/busplab/lbullock/sparc_sample_audio/sample_audio/diva_babbling/diva_babbling-20250224122349906.wav\n",
      "380 /projectnb/busplab/lbullock/sparc_sample_audio/sample_audio/diva_babbling/diva_babbling-20250224132335919.wav\n",
      "381 /projectnb/busplab/lbullock/sparc_sample_audio/sample_audio/diva_babbling/diva_babbling-20250224122724427.wav\n",
      "382 /projectnb/busplab/lbullock/sparc_sample_audio/sample_audio/diva_babbling/diva_babbling-20250226123851107.wav\n",
      "383 /projectnb/busplab/lbullock/sparc_sample_audio/sample_audio/diva_babbling/diva_babbling-20250226124614327.wav\n",
      "384 /projectnb/busplab/lbullock/sparc_sample_audio/sample_audio/diva_babbling/diva_babbling-20250224120154216.wav\n",
      "385 /projectnb/busplab/lbullock/sparc_sample_audio/sample_audio/diva_babbling/diva_babbling-20250224122328948.wav\n",
      "386 /projectnb/busplab/lbullock/sparc_sample_audio/sample_audio/diva_babbling/diva_babbling-20250224121455511.wav\n",
      "387 /projectnb/busplab/lbullock/sparc_sample_audio/sample_audio/diva_babbling/diva_babbling-20250224123111107.wav\n",
      "388 /projectnb/busplab/lbullock/sparc_sample_audio/sample_audio/diva_babbling/diva_babbling-20250224115450824.wav\n",
      "389 /projectnb/busplab/lbullock/sparc_sample_audio/sample_audio/diva_babbling/diva_babbling-20250224122320443.wav\n",
      "390 /projectnb/busplab/lbullock/sparc_sample_audio/sample_audio/diva_babbling/diva_babbling-20250224120747140.wav\n",
      "391 /projectnb/busplab/lbullock/sparc_sample_audio/sample_audio/diva_babbling/diva_babbling-20250224122851121.wav\n",
      "392 /projectnb/busplab/lbullock/sparc_sample_audio/sample_audio/diva_babbling/diva_babbling-20250224122341539.wav\n",
      "393 /projectnb/busplab/lbullock/sparc_sample_audio/sample_audio/diva_babbling/diva_babbling-20250224120356558.wav\n",
      "394 /projectnb/busplab/lbullock/sparc_sample_audio/sample_audio/diva_babbling/diva_babbling-20250224120133726.wav\n",
      "395 /projectnb/busplab/lbullock/sparc_sample_audio/sample_audio/diva_babbling/diva_babbling-20250224120730532.wav\n",
      "396 /projectnb/busplab/lbullock/sparc_sample_audio/sample_audio/diva_babbling/diva_babbling-20250224115152954.wav\n",
      "397 /projectnb/busplab/lbullock/sparc_sample_audio/sample_audio/diva_babbling/diva_babbling-20250224120528405.wav\n",
      "398 /projectnb/busplab/lbullock/sparc_sample_audio/sample_audio/diva_babbling/diva_babbling-20250224121611850.wav\n",
      "399 /projectnb/busplab/lbullock/sparc_sample_audio/sample_audio/diva_babbling/diva_babbling-20250224122924184.wav\n",
      "400 /projectnb/busplab/lbullock/sparc_sample_audio/sample_audio/diva_babbling/diva_babbling-20250226124413643.wav\n",
      "401 /projectnb/busplab/lbullock/sparc_sample_audio/sample_audio/diva_babbling/diva_babbling-20250224121401079.wav\n",
      "402 /projectnb/busplab/lbullock/sparc_sample_audio/sample_audio/diva_babbling/diva_babbling-20250224120706075.wav\n",
      "403 /projectnb/busplab/lbullock/sparc_sample_audio/sample_audio/diva_babbling/diva_babbling-20250224115524484.wav\n",
      "404 /projectnb/busplab/lbullock/sparc_sample_audio/sample_audio/diva_babbling/diva_babbling-20250224121310143.wav\n",
      "405 /projectnb/busplab/lbullock/sparc_sample_audio/sample_audio/diva_babbling/diva_babbling-20250224123106928.wav\n",
      "406 /projectnb/busplab/lbullock/sparc_sample_audio/sample_audio/diva_babbling/diva_babbling-20250226124654931.wav\n",
      "407 /projectnb/busplab/lbullock/sparc_sample_audio/sample_audio/diva_babbling/diva_babbling-20250224122153004.wav\n",
      "408 /projectnb/busplab/lbullock/sparc_sample_audio/sample_audio/diva_babbling/diva_babbling-20250224121524904.wav\n",
      "409 /projectnb/busplab/lbullock/sparc_sample_audio/sample_audio/diva_babbling/diva_babbling-20250224121537715.wav\n",
      "410 /projectnb/busplab/lbullock/sparc_sample_audio/sample_audio/diva_babbling/diva_babbling-20250224121318289.wav\n",
      "411 /projectnb/busplab/lbullock/sparc_sample_audio/sample_audio/diva_babbling/diva_babbling-20250224120710151.wav\n",
      "412 /projectnb/busplab/lbullock/sparc_sample_audio/sample_audio/diva_babbling/diva_babbling-20250224122127522.wav\n",
      "413 /projectnb/busplab/lbullock/sparc_sample_audio/sample_audio/diva_babbling/diva_babbling-20250224115602236.wav\n",
      "414 /projectnb/busplab/lbullock/sparc_sample_audio/sample_audio/diva_babbling/diva_babbling-20250224115720186.wav\n",
      "415 /projectnb/busplab/lbullock/sparc_sample_audio/sample_audio/diva_babbling/diva_babbling-20250224120218649.wav\n",
      "416 /projectnb/busplab/lbullock/sparc_sample_audio/sample_audio/diva_babbling/diva_babbling-20250224122441634.wav\n",
      "417 /projectnb/busplab/lbullock/sparc_sample_audio/sample_audio/diva_babbling/diva_babbling-20250224120519816.wav\n",
      "418 /projectnb/busplab/lbullock/sparc_sample_audio/sample_audio/diva_babbling/diva_babbling-20250224115516072.wav\n",
      "419 /projectnb/busplab/lbullock/sparc_sample_audio/sample_audio/diva_babbling/diva_babbling-20250224120032179.wav\n",
      "420 /projectnb/busplab/lbullock/sparc_sample_audio/sample_audio/diva_babbling/diva_babbling-20250224122419798.wav\n",
      "421 /projectnb/busplab/lbullock/sparc_sample_audio/sample_audio/diva_babbling/diva_babbling-20250224121632389.wav\n",
      "422 /projectnb/busplab/lbullock/sparc_sample_audio/sample_audio/diva_babbling/diva_babbling-20250224122617723.wav\n",
      "423 /projectnb/busplab/lbullock/sparc_sample_audio/sample_audio/diva_babbling/diva_babbling-20250226124936192.wav\n",
      "424 /projectnb/busplab/lbullock/sparc_sample_audio/sample_audio/diva_babbling/diva_babbling-20250224121816095.wav\n",
      "425 /projectnb/busplab/lbullock/sparc_sample_audio/sample_audio/diva_babbling/diva_babbling-20250224120340321.wav\n",
      "426 /projectnb/busplab/lbullock/sparc_sample_audio/sample_audio/diva_babbling/diva_babbling-20250224120028143.wav\n",
      "427 /projectnb/busplab/lbullock/sparc_sample_audio/sample_audio/diva_babbling/diva_babbling-20250224122307864.wav\n",
      "428 /projectnb/busplab/lbullock/sparc_sample_audio/sample_audio/diva_babbling/diva_babbling-20250224120820092.wav\n",
      "429 /projectnb/busplab/lbullock/sparc_sample_audio/sample_audio/diva_babbling/diva_babbling-20250224120251360.wav\n",
      "430 /projectnb/busplab/lbullock/sparc_sample_audio/sample_audio/diva_babbling/diva_babbling-20250224122757008.wav\n",
      "431 /projectnb/busplab/lbullock/sparc_sample_audio/sample_audio/diva_babbling/diva_babbling-20250224115732601.wav\n",
      "432 /projectnb/busplab/lbullock/sparc_sample_audio/sample_audio/diva_babbling/diva_babbling-20250224122036819.wav\n",
      "433 /projectnb/busplab/lbullock/sparc_sample_audio/sample_audio/diva_babbling/diva_babbling-20250224132703465.wav\n",
      "434 /projectnb/busplab/lbullock/sparc_sample_audio/sample_audio/diva_babbling/diva_babbling-20250224115140376.wav\n",
      "435 /projectnb/busplab/lbullock/sparc_sample_audio/sample_audio/diva_babbling/diva_babbling-20250224115935395.wav\n",
      "436 /projectnb/busplab/lbullock/sparc_sample_audio/sample_audio/diva_babbling/diva_babbling-20250224121011371.wav\n",
      "437 /projectnb/busplab/lbullock/sparc_sample_audio/sample_audio/diva_babbling/diva_babbling-20250224120816024.wav\n",
      "438 /projectnb/busplab/lbullock/sparc_sample_audio/sample_audio/diva_babbling/diva_babbling-20250224120433527.wav\n",
      "439 /projectnb/busplab/lbullock/sparc_sample_audio/sample_audio/diva_babbling/diva_babbling-20250224120950895.wav\n",
      "440 /projectnb/busplab/lbullock/sparc_sample_audio/sample_audio/diva_babbling/diva_babbling-20250226122327909.wav\n",
      "441 /projectnb/busplab/lbullock/sparc_sample_audio/sample_audio/diva_babbling/diva_babbling-20250224115327945.wav\n",
      "442 /projectnb/busplab/lbullock/sparc_sample_audio/sample_audio/diva_babbling/diva_babbling-20250224122523944.wav\n",
      "Batch update: 3\n",
      "Batch >0: fitting with SGD\n",
      "443 /projectnb/busplab/lbullock/sparc_sample_audio/sample_audio/diva_babbling/diva_babbling-20250224120751394.wav\n",
      "444 /projectnb/busplab/lbullock/sparc_sample_audio/sample_audio/diva_babbling/diva_babbling-20250224115242608.wav\n",
      "445 /projectnb/busplab/lbullock/sparc_sample_audio/sample_audio/diva_babbling/diva_babbling-20250226123006305.wav\n",
      "446 /projectnb/busplab/lbullock/sparc_sample_audio/sample_audio/diva_babbling/diva_babbling-20250224120611807.wav\n",
      "447 /projectnb/busplab/lbullock/sparc_sample_audio/sample_audio/diva_babbling/diva_babbling-20250224121322441.wav\n",
      "448 /projectnb/busplab/lbullock/sparc_sample_audio/sample_audio/diva_babbling/diva_babbling-20250224115801243.wav\n",
      "449 /projectnb/busplab/lbullock/sparc_sample_audio/sample_audio/diva_babbling/diva_babbling-20250224122020173.wav\n",
      "450 /projectnb/busplab/lbullock/sparc_sample_audio/sample_audio/diva_babbling/diva_babbling-20250224115417617.wav\n",
      "451 /projectnb/busplab/lbullock/sparc_sample_audio/sample_audio/diva_babbling/diva_babbling-20250224122540567.wav\n",
      "452 /projectnb/busplab/lbullock/sparc_sample_audio/sample_audio/diva_babbling/diva_babbling-20250224122740664.wav\n",
      "453 /projectnb/busplab/lbullock/sparc_sample_audio/sample_audio/diva_babbling/diva_babbling-20250224115357064.wav\n",
      "454 /projectnb/busplab/lbullock/sparc_sample_audio/sample_audio/diva_babbling/diva_babbling-20250224122944788.wav\n",
      "455 /projectnb/busplab/lbullock/sparc_sample_audio/sample_audio/diva_babbling/diva_babbling-20250224122716146.wav\n",
      "456 /projectnb/busplab/lbullock/sparc_sample_audio/sample_audio/diva_babbling/diva_babbling-20250226122648088.wav\n",
      "457 /projectnb/busplab/lbullock/sparc_sample_audio/sample_audio/diva_babbling/diva_babbling-20250224122916024.wav\n",
      "458 /projectnb/busplab/lbullock/sparc_sample_audio/sample_audio/diva_babbling/diva_babbling-20250224120653826.wav\n",
      "459 /projectnb/busplab/lbullock/sparc_sample_audio/sample_audio/diva_babbling/diva_babbling-20250224121905461.wav\n",
      "460 /projectnb/busplab/lbullock/sparc_sample_audio/sample_audio/diva_babbling/diva_babbling-20250224115234216.wav\n",
      "461 /projectnb/busplab/lbullock/sparc_sample_audio/sample_audio/diva_babbling/diva_babbling-20250224121118171.wav\n",
      "462 /projectnb/busplab/lbullock/sparc_sample_audio/sample_audio/diva_babbling/diva_babbling-20250224120738988.wav\n",
      "463 /projectnb/busplab/lbullock/sparc_sample_audio/sample_audio/diva_babbling/diva_babbling-20250226122407714.wav\n",
      "464 /projectnb/busplab/lbullock/sparc_sample_audio/sample_audio/diva_babbling/diva_babbling-20250224122903598.wav\n",
      "465 /projectnb/busplab/lbullock/sparc_sample_audio/sample_audio/diva_babbling/diva_babbling-20250224121151365.wav\n",
      "466 /projectnb/busplab/lbullock/sparc_sample_audio/sample_audio/diva_babbling/diva_babbling-20250224122748891.wav\n",
      "467 /projectnb/busplab/lbullock/sparc_sample_audio/sample_audio/diva_babbling/diva_babbling-20250224120649641.wav\n",
      "468 /projectnb/busplab/lbullock/sparc_sample_audio/sample_audio/diva_babbling/diva_babbling-20250224115532894.wav\n",
      "469 /projectnb/busplab/lbullock/sparc_sample_audio/sample_audio/diva_babbling/diva_babbling-20250224115352905.wav\n",
      "470 /projectnb/busplab/lbullock/sparc_sample_audio/sample_audio/diva_babbling/diva_babbling-20250224120722299.wav\n",
      "471 /projectnb/busplab/lbullock/sparc_sample_audio/sample_audio/diva_babbling/diva_babbling-20250224121015761.wav\n",
      "472 /projectnb/busplab/lbullock/sparc_sample_audio/sample_audio/diva_babbling/diva_babbling-20250224122720351.wav\n",
      "473 /projectnb/busplab/lbullock/sparc_sample_audio/sample_audio/diva_babbling/diva_babbling-20250224121224774.wav\n",
      "474 /projectnb/busplab/lbullock/sparc_sample_audio/sample_audio/diva_babbling/diva_babbling-20250224122015924.wav\n",
      "475 /projectnb/busplab/lbullock/sparc_sample_audio/sample_audio/diva_babbling/diva_babbling-20250224122655480.wav\n",
      "476 /projectnb/busplab/lbullock/sparc_sample_audio/sample_audio/diva_babbling/diva_babbling-20250224115311473.wav\n",
      "477 /projectnb/busplab/lbullock/sparc_sample_audio/sample_audio/diva_babbling/diva_babbling-20250224122907775.wav\n",
      "478 /projectnb/busplab/lbullock/sparc_sample_audio/sample_audio/diva_babbling/diva_babbling-20250224121840925.wav\n",
      "479 /projectnb/busplab/lbullock/sparc_sample_audio/sample_audio/diva_babbling/diva_babbling-20250224121451352.wav\n",
      "480 /projectnb/busplab/lbullock/sparc_sample_audio/sample_audio/diva_babbling/diva_babbling-20250224122846989.wav\n",
      "481 /projectnb/busplab/lbullock/sparc_sample_audio/sample_audio/diva_babbling/diva_babbling-20250224121216447.wav\n",
      "482 /projectnb/busplab/lbullock/sparc_sample_audio/sample_audio/diva_babbling/diva_babbling-20250224122506833.wav\n",
      "483 /projectnb/busplab/lbullock/sparc_sample_audio/sample_audio/diva_babbling/diva_babbling-20250224121249558.wav\n",
      "484 /projectnb/busplab/lbullock/sparc_sample_audio/sample_audio/diva_babbling/diva_babbling-20250224120458863.wav\n",
      "485 /projectnb/busplab/lbullock/sparc_sample_audio/sample_audio/diva_babbling/diva_babbling-20250224120113039.wav\n",
      "486 /projectnb/busplab/lbullock/sparc_sample_audio/sample_audio/diva_babbling/diva_babbling-20250224121607623.wav\n",
      "487 /projectnb/busplab/lbullock/sparc_sample_audio/sample_audio/diva_babbling/diva_babbling-20250224120044475.wav\n",
      "488 /projectnb/busplab/lbullock/sparc_sample_audio/sample_audio/diva_babbling/diva_babbling-20250224115630641.wav\n",
      "489 /projectnb/busplab/lbullock/sparc_sample_audio/sample_audio/diva_babbling/diva_babbling-20250224132745509.wav\n",
      "490 /projectnb/busplab/lbullock/sparc_sample_audio/sample_audio/diva_babbling/diva_babbling-20250224120553991.wav\n",
      "491 /projectnb/busplab/lbullock/sparc_sample_audio/sample_audio/diva_babbling/diva_babbling-20250224123046316.wav\n",
      "492 /projectnb/busplab/lbullock/sparc_sample_audio/sample_audio/diva_babbling/diva_babbling-20250224121701557.wav\n",
      "493 /projectnb/busplab/lbullock/sparc_sample_audio/sample_audio/diva_babbling/diva_babbling-20250224121942698.wav\n",
      "494 /projectnb/busplab/lbullock/sparc_sample_audio/sample_audio/diva_babbling/diva_babbling-20250224115817731.wav\n",
      "495 /projectnb/busplab/lbullock/sparc_sample_audio/sample_audio/diva_babbling/diva_babbling-20250226122847256.wav\n",
      "496 /projectnb/busplab/lbullock/sparc_sample_audio/sample_audio/diva_babbling/diva_babbling-20250224120755424.wav\n",
      "497 /projectnb/busplab/lbullock/sparc_sample_audio/sample_audio/diva_babbling/diva_babbling-20250224120413108.wav\n",
      "498 /projectnb/busplab/lbullock/sparc_sample_audio/sample_audio/diva_babbling/diva_babbling-20250224121759674.wav\n",
      "499 /projectnb/busplab/lbullock/sparc_sample_audio/sample_audio/diva_babbling/diva_babbling-20250224115323847.wav\n",
      "500 /projectnb/busplab/lbullock/sparc_sample_audio/sample_audio/diva_babbling/diva_babbling-20250224120450130.wav\n",
      "501 /projectnb/busplab/lbullock/sparc_sample_audio/sample_audio/diva_babbling/diva_babbling-20250224120840693.wav\n",
      "502 /projectnb/busplab/lbullock/sparc_sample_audio/sample_audio/diva_babbling/diva_babbling-20250224120905336.wav\n",
      "503 /projectnb/busplab/lbullock/sparc_sample_audio/sample_audio/diva_babbling/diva_babbling-20250224115455105.wav\n",
      "504 /projectnb/busplab/lbullock/sparc_sample_audio/sample_audio/diva_babbling/diva_babbling-20250226123247718.wav\n",
      "505 /projectnb/busplab/lbullock/sparc_sample_audio/sample_audio/diva_babbling/diva_babbling-20250224121439127.wav\n",
      "506 /projectnb/busplab/lbullock/sparc_sample_audio/sample_audio/diva_babbling/diva_babbling-20250224122948871.wav\n",
      "507 /projectnb/busplab/lbullock/sparc_sample_audio/sample_audio/diva_babbling/diva_babbling-20250224122007723.wav\n",
      "508 /projectnb/busplab/lbullock/sparc_sample_audio/sample_audio/diva_babbling/diva_babbling-20250224121653132.wav\n",
      "509 /projectnb/busplab/lbullock/sparc_sample_audio/sample_audio/diva_babbling/diva_babbling-20250224121356435.wav\n",
      "510 /projectnb/busplab/lbullock/sparc_sample_audio/sample_audio/diva_babbling/diva_babbling-20250226122527888.wav\n",
      "511 /projectnb/busplab/lbullock/sparc_sample_audio/sample_audio/diva_babbling/diva_babbling-20250224122744761.wav\n",
      "512 /projectnb/busplab/lbullock/sparc_sample_audio/sample_audio/diva_babbling/diva_babbling-20250224122437438.wav\n",
      "513 /projectnb/busplab/lbullock/sparc_sample_audio/sample_audio/diva_babbling/diva_babbling-20250224120844705.wav\n",
      "514 /projectnb/busplab/lbullock/sparc_sample_audio/sample_audio/diva_babbling/diva_babbling-20250224115643138.wav\n",
      "515 /projectnb/busplab/lbullock/sparc_sample_audio/sample_audio/diva_babbling/diva_babbling-20250224121747242.wav\n",
      "516 /projectnb/busplab/lbullock/sparc_sample_audio/sample_audio/diva_babbling/diva_babbling-20250224120657893.wav\n",
      "517 /projectnb/busplab/lbullock/sparc_sample_audio/sample_audio/diva_babbling/diva_babbling-20250224120259514.wav\n",
      "518 /projectnb/busplab/lbullock/sparc_sample_audio/sample_audio/diva_babbling/diva_babbling-20250224121718071.wav\n",
      "519 /projectnb/busplab/lbullock/sparc_sample_audio/sample_audio/diva_babbling/diva_babbling-20250224122651283.wav\n",
      "520 /projectnb/busplab/lbullock/sparc_sample_audio/sample_audio/diva_babbling/diva_babbling-20250224121032156.wav\n",
      "521 /projectnb/busplab/lbullock/sparc_sample_audio/sample_audio/diva_babbling/diva_babbling-20250224115659561.wav\n",
      "522 /projectnb/busplab/lbullock/sparc_sample_audio/sample_audio/diva_babbling/diva_babbling-20250224115850383.wav\n",
      "523 /projectnb/busplab/lbullock/sparc_sample_audio/sample_audio/diva_babbling/diva_babbling-20250226123126791.wav\n",
      "524 /projectnb/busplab/lbullock/sparc_sample_audio/sample_audio/diva_babbling/diva_babbling-20250224121314200.wav\n",
      "525 /projectnb/busplab/lbullock/sparc_sample_audio/sample_audio/diva_babbling/diva_babbling-20250224121507776.wav\n",
      "526 /projectnb/busplab/lbullock/sparc_sample_audio/sample_audio/diva_babbling/diva_babbling-20250224121820220.wav\n",
      "527 /projectnb/busplab/lbullock/sparc_sample_audio/sample_audio/diva_babbling/diva_babbling-20250224121447218.wav\n",
      "528 /projectnb/busplab/lbullock/sparc_sample_audio/sample_audio/diva_babbling/diva_babbling-20250224115409454.wav\n",
      "529 /projectnb/busplab/lbullock/sparc_sample_audio/sample_audio/diva_babbling/diva_babbling-20250224122515336.wav\n",
      "530 /projectnb/busplab/lbullock/sparc_sample_audio/sample_audio/diva_babbling/diva_babbling-20250224115541346.wav\n",
      "531 /projectnb/busplab/lbullock/sparc_sample_audio/sample_audio/diva_babbling/diva_babbling-20250224115336421.wav\n",
      "532 /projectnb/busplab/lbullock/sparc_sample_audio/sample_audio/diva_babbling/diva_babbling-20250224120020039.wav\n",
      "533 /projectnb/busplab/lbullock/sparc_sample_audio/sample_audio/diva_babbling/diva_babbling-20250224120214577.wav\n",
      "534 /projectnb/busplab/lbullock/sparc_sample_audio/sample_audio/diva_babbling/diva_babbling-20250224122024265.wav\n",
      "535 /projectnb/busplab/lbullock/sparc_sample_audio/sample_audio/diva_babbling/diva_babbling-20250224121109880.wav\n",
      "536 /projectnb/busplab/lbullock/sparc_sample_audio/sample_audio/diva_babbling/diva_babbling-20250226123610105.wav\n",
      "537 /projectnb/busplab/lbullock/sparc_sample_audio/sample_audio/diva_babbling/diva_babbling-20250224132417006.wav\n",
      "538 /projectnb/busplab/lbullock/sparc_sample_audio/sample_audio/diva_babbling/diva_babbling-20250224121155511.wav\n",
      "539 /projectnb/busplab/lbullock/sparc_sample_audio/sample_audio/diva_babbling/diva_babbling-20250224115858653.wav\n",
      "540 /projectnb/busplab/lbullock/sparc_sample_audio/sample_audio/diva_babbling/diva_babbling-20250224121959326.wav\n",
      "541 /projectnb/busplab/lbullock/sparc_sample_audio/sample_audio/diva_babbling/diva_babbling-20250224122634209.wav\n",
      "542 /projectnb/busplab/lbullock/sparc_sample_audio/sample_audio/diva_babbling/diva_babbling-20250224121352072.wav\n",
      "543 /projectnb/busplab/lbullock/sparc_sample_audio/sample_audio/diva_babbling/diva_babbling-20250224122728449.wav\n",
      "544 /projectnb/busplab/lbullock/sparc_sample_audio/sample_audio/diva_babbling/diva_babbling-20250226125217095.wav\n",
      "545 /projectnb/busplab/lbullock/sparc_sample_audio/sample_audio/diva_babbling/diva_babbling-20250224120811847.wav\n",
      "546 /projectnb/busplab/lbullock/sparc_sample_audio/sample_audio/diva_babbling/diva_babbling-20250224122532286.wav\n",
      "Batch update: 4\n",
      "Batch >0: fitting with SGD\n",
      "547 /projectnb/busplab/lbullock/sparc_sample_audio/sample_audio/diva_babbling/diva_babbling-20250224121459573.wav\n",
      "548 /projectnb/busplab/lbullock/sparc_sample_audio/sample_audio/diva_babbling/diva_babbling-20250224122140445.wav\n",
      "549 /projectnb/busplab/lbullock/sparc_sample_audio/sample_audio/diva_babbling/diva_babbling-20250224115606382.wav\n",
      "550 /projectnb/busplab/lbullock/sparc_sample_audio/sample_audio/diva_babbling/diva_babbling-20250224120125484.wav\n",
      "551 /projectnb/busplab/lbullock/sparc_sample_audio/sample_audio/diva_babbling/diva_babbling-20250224121405504.wav\n",
      "552 /projectnb/busplab/lbullock/sparc_sample_audio/sample_audio/diva_babbling/diva_babbling-20250226123328139.wav\n",
      "553 /projectnb/busplab/lbullock/sparc_sample_audio/sample_audio/diva_babbling/diva_babbling-20250224120515503.wav\n",
      "554 /projectnb/busplab/lbullock/sparc_sample_audio/sample_audio/diva_babbling/diva_babbling-20250224121807847.wav\n",
      "555 /projectnb/busplab/lbullock/sparc_sample_audio/sample_audio/diva_babbling/diva_babbling-20250224123058725.wav\n",
      "556 /projectnb/busplab/lbullock/sparc_sample_audio/sample_audio/diva_babbling/diva_babbling-20250224115315535.wav\n",
      "557 /projectnb/busplab/lbullock/sparc_sample_audio/sample_audio/diva_babbling/diva_babbling-20250224115255039.wav\n",
      "558 /projectnb/busplab/lbullock/sparc_sample_audio/sample_audio/diva_babbling/diva_babbling-20250224122932412.wav\n",
      "559 /projectnb/busplab/lbullock/sparc_sample_audio/sample_audio/diva_babbling/diva_babbling-20250224115825913.wav\n",
      "560 /projectnb/busplab/lbullock/sparc_sample_audio/sample_audio/diva_babbling/diva_babbling-20250224123102837.wav\n",
      "561 /projectnb/busplab/lbullock/sparc_sample_audio/sample_audio/diva_babbling/diva_babbling-20250224115144658.wav\n",
      "562 /projectnb/busplab/lbullock/sparc_sample_audio/sample_audio/diva_babbling/diva_babbling-20250224115939440.wav\n",
      "563 /projectnb/busplab/lbullock/sparc_sample_audio/sample_audio/diva_babbling/diva_babbling-20250224122131790.wav\n",
      "564 /projectnb/busplab/lbullock/sparc_sample_audio/sample_audio/diva_babbling/diva_babbling-20250224121657345.wav\n",
      "565 /projectnb/busplab/lbullock/sparc_sample_audio/sample_audio/diva_babbling/diva_babbling-20250224122809448.wav\n",
      "566 /projectnb/busplab/lbullock/sparc_sample_audio/sample_audio/diva_babbling/diva_babbling-20250224122114874.wav\n",
      "567 /projectnb/busplab/lbullock/sparc_sample_audio/sample_audio/diva_babbling/diva_babbling-20250224115401201.wav\n",
      "568 /projectnb/busplab/lbullock/sparc_sample_audio/sample_audio/diva_babbling/diva_babbling-20250224115549706.wav\n",
      "569 /projectnb/busplab/lbullock/sparc_sample_audio/sample_audio/diva_babbling/diva_babbling-20250224121159689.wav\n",
      "570 /projectnb/busplab/lbullock/sparc_sample_audio/sample_audio/diva_babbling/diva_babbling-20250224121828576.wav\n",
      "571 /projectnb/busplab/lbullock/sparc_sample_audio/sample_audio/diva_babbling/diva_babbling-20250226123408388.wav\n",
      "572 /projectnb/busplab/lbullock/sparc_sample_audio/sample_audio/diva_babbling/diva_babbling-20250224121339431.wav\n",
      "573 /projectnb/busplab/lbullock/sparc_sample_audio/sample_audio/diva_babbling/diva_babbling-20250224120100662.wav\n",
      "574 /projectnb/busplab/lbullock/sparc_sample_audio/sample_audio/diva_babbling/diva_babbling-20250224121343676.wav\n",
      "575 /projectnb/busplab/lbullock/sparc_sample_audio/sample_audio/diva_babbling/diva_babbling-20250224120226846.wav\n",
      "576 /projectnb/busplab/lbullock/sparc_sample_audio/sample_audio/diva_babbling/diva_babbling-20250224122511034.wav\n",
      "577 /projectnb/busplab/lbullock/sparc_sample_audio/sample_audio/diva_babbling/diva_babbling-20250224115442480.wav\n",
      "578 /projectnb/busplab/lbullock/sparc_sample_audio/sample_audio/diva_babbling/diva_babbling-20250224121044972.wav\n",
      "579 /projectnb/busplab/lbullock/sparc_sample_audio/sample_audio/diva_babbling/diva_babbling-20250224115943503.wav\n",
      "580 /projectnb/busplab/lbullock/sparc_sample_audio/sample_audio/diva_babbling/diva_babbling-20250224115426165.wav\n",
      "581 /projectnb/busplab/lbullock/sparc_sample_audio/sample_audio/diva_babbling/diva_babbling-20250224122821951.wav\n",
      "582 /projectnb/busplab/lbullock/sparc_sample_audio/sample_audio/diva_babbling/diva_babbling-20250224115217459.wav\n",
      "583 /projectnb/busplab/lbullock/sparc_sample_audio/sample_audio/diva_babbling/diva_babbling-20250224122458413.wav\n",
      "584 /projectnb/busplab/lbullock/sparc_sample_audio/sample_audio/diva_babbling/diva_babbling-20250224115157121.wav\n",
      "585 /projectnb/busplab/lbullock/sparc_sample_audio/sample_audio/diva_babbling/diva_babbling-20250224121648892.wav\n",
      "586 /projectnb/busplab/lbullock/sparc_sample_audio/sample_audio/diva_babbling/diva_babbling-20250224122311943.wav\n",
      "587 /projectnb/busplab/lbullock/sparc_sample_audio/sample_audio/diva_babbling/diva_babbling-20250224122940649.wav\n",
      "588 /projectnb/busplab/lbullock/sparc_sample_audio/sample_audio/diva_babbling/diva_babbling-20250224115711961.wav\n",
      "589 /projectnb/busplab/lbullock/sparc_sample_audio/sample_audio/diva_babbling/diva_babbling-20250224115927222.wav\n",
      "590 /projectnb/busplab/lbullock/sparc_sample_audio/sample_audio/diva_babbling/diva_babbling-20250224115846360.wav\n",
      "591 /projectnb/busplab/lbullock/sparc_sample_audio/sample_audio/diva_babbling/diva_babbling-20250224120930419.wav\n",
      "592 /projectnb/busplab/lbullock/sparc_sample_audio/sample_audio/diva_babbling/diva_babbling-20250224122528115.wav\n",
      "593 /projectnb/busplab/lbullock/sparc_sample_audio/sample_audio/diva_babbling/diva_babbling-20250224120743095.wav\n",
      "594 /projectnb/busplab/lbullock/sparc_sample_audio/sample_audio/diva_babbling/diva_babbling-20250224121003175.wav\n",
      "595 /projectnb/busplab/lbullock/sparc_sample_audio/sample_audio/diva_babbling/diva_babbling-20250224121134753.wav\n",
      "596 /projectnb/busplab/lbullock/sparc_sample_audio/sample_audio/diva_babbling/diva_babbling-20250224122445688.wav\n",
      "597 /projectnb/busplab/lbullock/sparc_sample_audio/sample_audio/diva_babbling/diva_babbling-20250224121803772.wav\n",
      "598 /projectnb/busplab/lbullock/sparc_sample_audio/sample_audio/diva_babbling/diva_babbling-20250224120807782.wav\n",
      "599 /projectnb/busplab/lbullock/sparc_sample_audio/sample_audio/diva_babbling/diva_babbling-20250224120507230.wav\n",
      "600 /projectnb/busplab/lbullock/sparc_sample_audio/sample_audio/diva_babbling/diva_babbling-20250224115213438.wav\n",
      "601 /projectnb/busplab/lbullock/sparc_sample_audio/sample_audio/diva_babbling/diva_babbling-20250224122830216.wav\n",
      "602 /projectnb/busplab/lbullock/sparc_sample_audio/sample_audio/diva_babbling/diva_babbling-20250224121430983.wav\n",
      "603 /projectnb/busplab/lbullock/sparc_sample_audio/sample_audio/diva_babbling/diva_babbling-20250224120955003.wav\n",
      "604 /projectnb/busplab/lbullock/sparc_sample_audio/sample_audio/diva_babbling/diva_babbling-20250224120404642.wav\n",
      "605 /projectnb/busplab/lbullock/sparc_sample_audio/sample_audio/diva_babbling/diva_babbling-20250224115553922.wav\n",
      "606 /projectnb/busplab/lbullock/sparc_sample_audio/sample_audio/diva_babbling/diva_babbling-20250224122936535.wav\n",
      "607 /projectnb/busplab/lbullock/sparc_sample_audio/sample_audio/diva_babbling/diva_babbling-20250224121347760.wav\n",
      "608 /projectnb/busplab/lbullock/sparc_sample_audio/sample_audio/diva_babbling/diva_babbling-20250224121138906.wav\n",
      "609 /projectnb/busplab/lbullock/sparc_sample_audio/sample_audio/diva_babbling/diva_babbling-20250224121241299.wav\n",
      "610 /projectnb/busplab/lbullock/sparc_sample_audio/sample_audio/diva_babbling/diva_babbling-20250224120352505.wav\n",
      "611 /projectnb/busplab/lbullock/sparc_sample_audio/sample_audio/diva_babbling/diva_babbling-20250224115332256.wav\n",
      "612 /projectnb/busplab/lbullock/sparc_sample_audio/sample_audio/diva_babbling/diva_babbling-20250226123449122.wav\n",
      "613 /projectnb/busplab/lbullock/sparc_sample_audio/sample_audio/diva_babbling/diva_babbling-20250224121512044.wav\n",
      "614 /projectnb/busplab/lbullock/sparc_sample_audio/sample_audio/diva_babbling/diva_babbling-20250224120319979.wav\n",
      "615 /projectnb/busplab/lbullock/sparc_sample_audio/sample_audio/diva_babbling/diva_babbling-20250224120150149.wav\n",
      "616 /projectnb/busplab/lbullock/sparc_sample_audio/sample_audio/diva_babbling/diva_babbling-20250224122826083.wav\n",
      "617 /projectnb/busplab/lbullock/sparc_sample_audio/sample_audio/diva_babbling/diva_babbling-20250224122102271.wav\n",
      "618 /projectnb/busplab/lbullock/sparc_sample_audio/sample_audio/diva_babbling/diva_babbling-20250224120645463.wav\n",
      "619 /projectnb/busplab/lbullock/sparc_sample_audio/sample_audio/diva_babbling/diva_babbling-20250224115250973.wav\n",
      "620 /projectnb/busplab/lbullock/sparc_sample_audio/sample_audio/diva_babbling/diva_babbling-20250224121114027.wav\n",
      "621 /projectnb/busplab/lbullock/sparc_sample_audio/sample_audio/diva_babbling/diva_babbling-20250224115148785.wav\n",
      "622 /projectnb/busplab/lbullock/sparc_sample_audio/sample_audio/diva_babbling/diva_babbling-20250224122613585.wav\n",
      "623 /projectnb/busplab/lbullock/sparc_sample_audio/sample_audio/diva_babbling/diva_babbling-20250224123115210.wav\n",
      "624 /projectnb/busplab/lbullock/sparc_sample_audio/sample_audio/diva_babbling/diva_babbling-20250224120624476.wav\n",
      "625 /projectnb/busplab/lbullock/sparc_sample_audio/sample_audio/diva_babbling/diva_babbling-20250224120425438.wav\n",
      "626 /projectnb/busplab/lbullock/sparc_sample_audio/sample_audio/diva_babbling/diva_babbling-20250224120926240.wav\n",
      "627 /projectnb/busplab/lbullock/sparc_sample_audio/sample_audio/diva_babbling/diva_babbling-20250224120121381.wav\n",
      "628 /projectnb/busplab/lbullock/sparc_sample_audio/sample_audio/diva_babbling/diva_babbling-20250224122502560.wav\n",
      "629 /projectnb/busplab/lbullock/sparc_sample_audio/sample_audio/diva_babbling/diva_babbling-20250224120003759.wav\n",
      "630 /projectnb/busplab/lbullock/sparc_sample_audio/sample_audio/diva_babbling/diva_babbling-20250226124534159.wav\n",
      "631 /projectnb/busplab/lbullock/sparc_sample_audio/sample_audio/diva_babbling/diva_babbling-20250224115434300.wav\n"
     ]
    }
   ],
   "source": [
    "from sklearn.linear_model import SGDRegressor\n",
    "from sklearn.linear_model import LinearRegression\n",
    "from sklearn.preprocessing import StandardScaler\n",
    "from sklearn.multioutput import MultiOutputRegressor\n",
    "from sklearn.preprocessing import StandardScaler\n",
    "\n",
    "\n",
    "files = glob.glob(f'{topdir}/sample_audio/diva_babbling/diva_babbling*.wav')\n",
    "# files = [f for f in files if '202502' in f ]\n",
    "print(f'n files: {len(files)}')\n",
    "\n",
    "data_all = []\n",
    "# Create an SGD-based OLS model\n",
    "# model = SGDRegressor(max_iter=1000, tol=1e-3, eta0=0.0001, verbose=1, warm_start=True)\n",
    "# model = LinearRegression()\n",
    "# model = MultiOutputRegressor(model, n_jobs=-1)\n",
    "\n",
    "# score = np.zeros([13, 1])\n",
    "# score[:] = np.nan\n",
    "score = []\n",
    "ibatch = 0\n",
    "\n",
    "for idx_f, f in enumerate(files):\n",
    "\n",
    "  # if not (idx_f>=0 and idx_f<=251):\n",
    "  #   continue\n",
    "  # f = files[0]\n",
    "  print(idx_f, f)\n",
    "\n",
    "  (fdir, fname) = os.path.split(f)\n",
    "  (fname, fext) = fname.split('.')\n",
    "\n",
    "  diva = pd.read_csv(fdir + \"/\" + fname + '.csv')\n",
    "\n",
    "  fname_wavlm = dir_out + fname + '-resynth-wavlm.csv'\n",
    "  if not os.path.exists(fname_wavlm):\n",
    "      continue\n",
    "  wavlm = pd.read_csv(fname_wavlm)\n",
    "\n",
    "  diva_interp = pd.DataFrame({'time': wavlm['time']})  # Keep B's time vector\n",
    "\n",
    "\n",
    "  id_cols = ['time', 'file_id']\n",
    "  for col in diva.columns:\n",
    "      if col in id_cols:  # Skip 'time' column\n",
    "          continue\n",
    "      diva_interp[col] = np.interp(wavlm['time'], diva['time'], diva[col])\n",
    "\n",
    "  # Merge interpolated A with B\n",
    "  df_merged = pd.merge(wavlm, diva_interp, how='inner', on='time')\n",
    "  cols = id_cols + [col for col in df_merged.columns if col not in id_cols]\n",
    "  df_merged = df_merged[cols]\n",
    "\n",
    "  data_all.append(df_merged)\n",
    "\n",
    "  # RUN LEAST SQUARES OR SGD-OLS\n",
    "  if np.mod(len(data_all), 30)==0:\n",
    "    print(f'Batch update: {ibatch}')\n",
    "    df_data_all = pd.concat(data_all, ignore_index=True, axis=0)\n",
    "\n",
    "    cols_wavlm  = [col for col in df_data_all.columns if 'wavlm' in col]\n",
    "    cols_diva = [col for col in df_data_all.columns if col not in cols_wavlm+id_cols]\n",
    "\n",
    "    X = df_data_all[cols_wavlm]\n",
    "    Y = df_data_all[[col for col in cols_diva if col not in [\"Tension\", \"Pressure\", \"Voicing\"]]]\n",
    "\n",
    "    # Initialize scalers\n",
    "    scaler_X = StandardScaler()\n",
    "    scaler_Y = StandardScaler()\n",
    "\n",
    "    # Scale features\n",
    "    # X = scaler_X.fit_transform(X)\n",
    "    # Y = scaler_Y.fit_transform(Y)\n",
    "\n",
    "    if ibatch==0:\n",
    "      print('Batch 0: fitting with OLS then SGD')\n",
    "\n",
    "      ols = LinearRegression()\n",
    "      ols.fit(X, Y)\n",
    "      # Initialize SGD\n",
    "      base_sgd = SGDRegressor(max_iter=1000, tol=1e-3, warm_start=True, eta0=0.0001)\n",
    "      model = MultiOutputRegressor(base_sgd, n_jobs=-1)\n",
    "\n",
    "      # model = LinearRegression()\n",
    "      model.fit(X, Y)\n",
    "\n",
    "      # # Initialize SGD with warm_start=True\n",
    "      # # Manually set coef_ and intercept_ for each output target\n",
    "      # for i, est in enumerate(model.estimators_ if hasattr(model, 'estimators_') else []):\n",
    "      #     est.coef_ = ols.coef_[i]  # Set the coefficient vector\n",
    "      #     est.intercept_ = ols.intercept_[i]  # Set the intercept\n",
    "\n",
    "      # model.fit(X, Y, coef_init=ols.coef_.copy(), intercept_init=ols.intercept_.copy())\n",
    "      # model.fit(X, Y)\n",
    "\n",
    "    else:\n",
    "      print('Batch >0: fitting with SGD')\n",
    "      model.partial_fit(X, Y) # if ibatch>=1 else\n",
    "      # model.fit(X, Y) # Train incrementally\n",
    "      # model.coef_ = (model.coef_ + model_last.coef_) / 2\n",
    "      # model.intercept_ = (model.intercept_ + model_last.intercept_) / 2\n",
    "\n",
    "    # model.fit(X, Y)  # Train incrementally\n",
    "    # score[0, ibatch] = model.score(X, Y)\n",
    "\n",
    "    Y_pred = model.predict(X)\n",
    "\n",
    "    resSS = ((Y - Y_pred)** 2).sum(axis=0)\n",
    "    ySS = ((Y - Y.mean(axis=0)) ** 2).sum(axis=0)\n",
    "    r2 = 1 - np.divide(resSS, ySS)\n",
    "    r2['ns'] = X.shape[0]\n",
    "\n",
    "    score.append(r2)\n",
    "    # score = pd.concat([score, r2], ignore_index=True, axis=0)\n",
    "\n",
    "    del data_all\n",
    "    data_all = []\n",
    "    ibatch += 1\n",
    "    model_last = model\n",
    "\n",
    "  # out = np.linalg.lstsq(df_merged[cols_wavlm], df_data_all[cols_diva])\n",
    "\n",
    "\n",
    "  # # verify that interpolation is correct d\n",
    "  # fig, ax = plt.subplots(2, 1)\n",
    "  # ax[0].plot(df_merged['time'], df_merged['Jaw'])\n",
    "  # ax[0].plot(df_merged['time'], df_merged['Jaw']+0.05, alpha=0.5)\n",
    "\n",
    "# df_data_all = pd.concat(data_all, ignore_index=True, axis=0)\n",
    "\n"
   ]
  },
  {
   "cell_type": "code",
   "execution_count": 22,
   "id": "KyZOcuyPoKPo",
   "metadata": {
    "id": "KyZOcuyPoKPo"
   },
   "outputs": [
    {
     "data": {
      "text/html": [
       "<div>\n",
       "<style scoped>\n",
       "    .dataframe tbody tr th:only-of-type {\n",
       "        vertical-align: middle;\n",
       "    }\n",
       "\n",
       "    .dataframe tbody tr th {\n",
       "        vertical-align: top;\n",
       "    }\n",
       "\n",
       "    .dataframe thead th {\n",
       "        text-align: right;\n",
       "    }\n",
       "</style>\n",
       "<table border=\"1\" class=\"dataframe\">\n",
       "  <thead>\n",
       "    <tr style=\"text-align: right;\">\n",
       "      <th></th>\n",
       "      <th>Jaw</th>\n",
       "      <th>Lip_opening</th>\n",
       "      <th>Lip_protrusion</th>\n",
       "      <th>Soft_palate</th>\n",
       "      <th>Larynx_height</th>\n",
       "      <th>Tongue_1</th>\n",
       "      <th>Tongue_2</th>\n",
       "      <th>Tongue_3</th>\n",
       "      <th>Tongue_4</th>\n",
       "      <th>Tongue_5</th>\n",
       "      <th>ns</th>\n",
       "    </tr>\n",
       "  </thead>\n",
       "  <tbody>\n",
       "    <tr>\n",
       "      <th>0</th>\n",
       "      <td>0.509191</td>\n",
       "      <td>0.770042</td>\n",
       "      <td>0.277181</td>\n",
       "      <td>0.003102</td>\n",
       "      <td>0.670975</td>\n",
       "      <td>0.500986</td>\n",
       "      <td>0.572063</td>\n",
       "      <td>0.239497</td>\n",
       "      <td>0.163933</td>\n",
       "      <td>0.437046</td>\n",
       "      <td>64860.0</td>\n",
       "    </tr>\n",
       "    <tr>\n",
       "      <th>1</th>\n",
       "      <td>0.460569</td>\n",
       "      <td>0.761293</td>\n",
       "      <td>0.231355</td>\n",
       "      <td>-0.000125</td>\n",
       "      <td>0.631396</td>\n",
       "      <td>0.417444</td>\n",
       "      <td>0.538048</td>\n",
       "      <td>0.204239</td>\n",
       "      <td>0.133630</td>\n",
       "      <td>0.414111</td>\n",
       "      <td>64860.0</td>\n",
       "    </tr>\n",
       "    <tr>\n",
       "      <th>2</th>\n",
       "      <td>0.493831</td>\n",
       "      <td>0.751068</td>\n",
       "      <td>0.173590</td>\n",
       "      <td>-0.002311</td>\n",
       "      <td>0.615231</td>\n",
       "      <td>0.441205</td>\n",
       "      <td>0.545852</td>\n",
       "      <td>0.222886</td>\n",
       "      <td>0.114670</td>\n",
       "      <td>0.376316</td>\n",
       "      <td>51360.0</td>\n",
       "    </tr>\n",
       "    <tr>\n",
       "      <th>3</th>\n",
       "      <td>0.511905</td>\n",
       "      <td>0.728548</td>\n",
       "      <td>0.249099</td>\n",
       "      <td>-0.026056</td>\n",
       "      <td>0.631269</td>\n",
       "      <td>0.442742</td>\n",
       "      <td>0.558085</td>\n",
       "      <td>0.244766</td>\n",
       "      <td>0.132406</td>\n",
       "      <td>0.354092</td>\n",
       "      <td>46860.0</td>\n",
       "    </tr>\n",
       "    <tr>\n",
       "      <th>4</th>\n",
       "      <td>0.490076</td>\n",
       "      <td>0.743904</td>\n",
       "      <td>0.248100</td>\n",
       "      <td>0.014528</td>\n",
       "      <td>0.637559</td>\n",
       "      <td>0.445999</td>\n",
       "      <td>0.544577</td>\n",
       "      <td>0.222410</td>\n",
       "      <td>0.131703</td>\n",
       "      <td>0.391011</td>\n",
       "      <td>55860.0</td>\n",
       "    </tr>\n",
       "  </tbody>\n",
       "</table>\n",
       "</div>"
      ],
      "text/plain": [
       "        Jaw  Lip_opening  Lip_protrusion  Soft_palate  Larynx_height  \\\n",
       "0  0.509191     0.770042        0.277181     0.003102       0.670975   \n",
       "1  0.460569     0.761293        0.231355    -0.000125       0.631396   \n",
       "2  0.493831     0.751068        0.173590    -0.002311       0.615231   \n",
       "3  0.511905     0.728548        0.249099    -0.026056       0.631269   \n",
       "4  0.490076     0.743904        0.248100     0.014528       0.637559   \n",
       "\n",
       "   Tongue_1  Tongue_2  Tongue_3  Tongue_4  Tongue_5       ns  \n",
       "0  0.500986  0.572063  0.239497  0.163933  0.437046  64860.0  \n",
       "1  0.417444  0.538048  0.204239  0.133630  0.414111  64860.0  \n",
       "2  0.441205  0.545852  0.222886  0.114670  0.376316  51360.0  \n",
       "3  0.442742  0.558085  0.244766  0.132406  0.354092  46860.0  \n",
       "4  0.445999  0.544577  0.222410  0.131703  0.391011  55860.0  "
      ]
     },
     "execution_count": 22,
     "metadata": {},
     "output_type": "execute_result"
    }
   ],
   "source": [
    "score = pd.DataFrame(score)\n",
    "score"
   ]
  },
  {
   "cell_type": "code",
   "execution_count": null,
   "id": "7JB6dm-ZGF11",
   "metadata": {
    "id": "7JB6dm-ZGF11"
   },
   "outputs": [],
   "source": [
    "plt.plot(score[[c for c in score.columns if c not in ['ns']]])"
   ]
  },
  {
   "cell_type": "code",
   "execution_count": 19,
   "id": "665181d4",
   "metadata": {},
   "outputs": [
    {
     "data": {
      "text/html": [
       "<div>\n",
       "<style scoped>\n",
       "    .dataframe tbody tr th:only-of-type {\n",
       "        vertical-align: middle;\n",
       "    }\n",
       "\n",
       "    .dataframe tbody tr th {\n",
       "        vertical-align: top;\n",
       "    }\n",
       "\n",
       "    .dataframe thead th {\n",
       "        text-align: right;\n",
       "    }\n",
       "</style>\n",
       "<table border=\"1\" class=\"dataframe\">\n",
       "  <thead>\n",
       "    <tr style=\"text-align: right;\">\n",
       "      <th></th>\n",
       "      <th>time</th>\n",
       "      <th>file_id</th>\n",
       "      <th>wavlm_0</th>\n",
       "      <th>wavlm_1</th>\n",
       "      <th>wavlm_2</th>\n",
       "      <th>wavlm_3</th>\n",
       "      <th>wavlm_4</th>\n",
       "      <th>wavlm_5</th>\n",
       "      <th>wavlm_6</th>\n",
       "      <th>wavlm_7</th>\n",
       "      <th>...</th>\n",
       "      <th>Soft_palate</th>\n",
       "      <th>Larynx_height</th>\n",
       "      <th>Tongue_1</th>\n",
       "      <th>Tongue_2</th>\n",
       "      <th>Tongue_3</th>\n",
       "      <th>Tongue_4</th>\n",
       "      <th>Tongue_5</th>\n",
       "      <th>Tension</th>\n",
       "      <th>Pressure</th>\n",
       "      <th>Voicing</th>\n",
       "    </tr>\n",
       "  </thead>\n",
       "  <tbody>\n",
       "    <tr>\n",
       "      <th>0</th>\n",
       "      <td>0.02</td>\n",
       "      <td>diva_babbling-20250226124534159</td>\n",
       "      <td>-8.328044</td>\n",
       "      <td>-4.430831</td>\n",
       "      <td>5.220529</td>\n",
       "      <td>2.380581</td>\n",
       "      <td>0.103859</td>\n",
       "      <td>-0.265351</td>\n",
       "      <td>0.850460</td>\n",
       "      <td>-0.678557</td>\n",
       "      <td>...</td>\n",
       "      <td>0.005431</td>\n",
       "      <td>-0.007976</td>\n",
       "      <td>0.010153</td>\n",
       "      <td>0.000690</td>\n",
       "      <td>-0.010109</td>\n",
       "      <td>-0.004632</td>\n",
       "      <td>-0.003131</td>\n",
       "      <td>0.0</td>\n",
       "      <td>0.5</td>\n",
       "      <td>0.5</td>\n",
       "    </tr>\n",
       "    <tr>\n",
       "      <th>1</th>\n",
       "      <td>0.04</td>\n",
       "      <td>diva_babbling-20250226124534159</td>\n",
       "      <td>-2.121984</td>\n",
       "      <td>-2.401135</td>\n",
       "      <td>0.146988</td>\n",
       "      <td>4.700733</td>\n",
       "      <td>1.395359</td>\n",
       "      <td>1.051130</td>\n",
       "      <td>1.225244</td>\n",
       "      <td>-1.074319</td>\n",
       "      <td>...</td>\n",
       "      <td>0.005482</td>\n",
       "      <td>-0.017122</td>\n",
       "      <td>0.041596</td>\n",
       "      <td>-0.017655</td>\n",
       "      <td>-0.022681</td>\n",
       "      <td>-0.009150</td>\n",
       "      <td>-0.005773</td>\n",
       "      <td>0.0</td>\n",
       "      <td>0.5</td>\n",
       "      <td>0.5</td>\n",
       "    </tr>\n",
       "    <tr>\n",
       "      <th>2</th>\n",
       "      <td>0.06</td>\n",
       "      <td>diva_babbling-20250226124534159</td>\n",
       "      <td>1.423781</td>\n",
       "      <td>-1.142485</td>\n",
       "      <td>-2.111336</td>\n",
       "      <td>5.488804</td>\n",
       "      <td>1.738774</td>\n",
       "      <td>1.440164</td>\n",
       "      <td>1.362637</td>\n",
       "      <td>-0.993499</td>\n",
       "      <td>...</td>\n",
       "      <td>0.029191</td>\n",
       "      <td>-0.049002</td>\n",
       "      <td>0.085399</td>\n",
       "      <td>-0.007685</td>\n",
       "      <td>-0.034308</td>\n",
       "      <td>-0.018743</td>\n",
       "      <td>-0.003563</td>\n",
       "      <td>0.0</td>\n",
       "      <td>0.5</td>\n",
       "      <td>0.5</td>\n",
       "    </tr>\n",
       "    <tr>\n",
       "      <th>3</th>\n",
       "      <td>0.08</td>\n",
       "      <td>diva_babbling-20250226124534159</td>\n",
       "      <td>2.132555</td>\n",
       "      <td>-0.643783</td>\n",
       "      <td>-1.515574</td>\n",
       "      <td>4.749337</td>\n",
       "      <td>0.962145</td>\n",
       "      <td>0.652313</td>\n",
       "      <td>0.701610</td>\n",
       "      <td>-0.447825</td>\n",
       "      <td>...</td>\n",
       "      <td>0.048315</td>\n",
       "      <td>-0.074785</td>\n",
       "      <td>0.171874</td>\n",
       "      <td>-0.003973</td>\n",
       "      <td>-0.055404</td>\n",
       "      <td>-0.020868</td>\n",
       "      <td>0.003801</td>\n",
       "      <td>0.0</td>\n",
       "      <td>0.5</td>\n",
       "      <td>0.5</td>\n",
       "    </tr>\n",
       "    <tr>\n",
       "      <th>4</th>\n",
       "      <td>0.10</td>\n",
       "      <td>diva_babbling-20250226124534159</td>\n",
       "      <td>1.793745</td>\n",
       "      <td>-0.212915</td>\n",
       "      <td>-0.309870</td>\n",
       "      <td>3.651519</td>\n",
       "      <td>-0.317718</td>\n",
       "      <td>-0.773141</td>\n",
       "      <td>-1.240885</td>\n",
       "      <td>0.292765</td>\n",
       "      <td>...</td>\n",
       "      <td>0.083900</td>\n",
       "      <td>-0.122626</td>\n",
       "      <td>0.278817</td>\n",
       "      <td>0.015420</td>\n",
       "      <td>-0.066677</td>\n",
       "      <td>-0.043239</td>\n",
       "      <td>0.018279</td>\n",
       "      <td>0.0</td>\n",
       "      <td>0.5</td>\n",
       "      <td>0.5</td>\n",
       "    </tr>\n",
       "    <tr>\n",
       "      <th>...</th>\n",
       "      <td>...</td>\n",
       "      <td>...</td>\n",
       "      <td>...</td>\n",
       "      <td>...</td>\n",
       "      <td>...</td>\n",
       "      <td>...</td>\n",
       "      <td>...</td>\n",
       "      <td>...</td>\n",
       "      <td>...</td>\n",
       "      <td>...</td>\n",
       "      <td>...</td>\n",
       "      <td>...</td>\n",
       "      <td>...</td>\n",
       "      <td>...</td>\n",
       "      <td>...</td>\n",
       "      <td>...</td>\n",
       "      <td>...</td>\n",
       "      <td>...</td>\n",
       "      <td>...</td>\n",
       "      <td>...</td>\n",
       "      <td>...</td>\n",
       "    </tr>\n",
       "    <tr>\n",
       "      <th>5007</th>\n",
       "      <td>100.16</td>\n",
       "      <td>diva_babbling-20250226124534159</td>\n",
       "      <td>-2.773144</td>\n",
       "      <td>-0.640748</td>\n",
       "      <td>-1.765120</td>\n",
       "      <td>5.945189</td>\n",
       "      <td>2.409860</td>\n",
       "      <td>4.077280</td>\n",
       "      <td>-0.436648</td>\n",
       "      <td>-1.379136</td>\n",
       "      <td>...</td>\n",
       "      <td>-0.006804</td>\n",
       "      <td>-0.000128</td>\n",
       "      <td>0.114219</td>\n",
       "      <td>-0.112398</td>\n",
       "      <td>-0.140294</td>\n",
       "      <td>-0.007441</td>\n",
       "      <td>0.088630</td>\n",
       "      <td>0.0</td>\n",
       "      <td>0.5</td>\n",
       "      <td>0.5</td>\n",
       "    </tr>\n",
       "    <tr>\n",
       "      <th>5008</th>\n",
       "      <td>100.18</td>\n",
       "      <td>diva_babbling-20250226124534159</td>\n",
       "      <td>-4.159608</td>\n",
       "      <td>-0.441262</td>\n",
       "      <td>-0.841475</td>\n",
       "      <td>7.141564</td>\n",
       "      <td>3.784247</td>\n",
       "      <td>3.106020</td>\n",
       "      <td>-1.086247</td>\n",
       "      <td>-1.504352</td>\n",
       "      <td>...</td>\n",
       "      <td>-0.002098</td>\n",
       "      <td>0.001888</td>\n",
       "      <td>0.077135</td>\n",
       "      <td>-0.056636</td>\n",
       "      <td>-0.079621</td>\n",
       "      <td>-0.001084</td>\n",
       "      <td>0.059815</td>\n",
       "      <td>0.0</td>\n",
       "      <td>0.5</td>\n",
       "      <td>0.5</td>\n",
       "    </tr>\n",
       "    <tr>\n",
       "      <th>5009</th>\n",
       "      <td>100.20</td>\n",
       "      <td>diva_babbling-20250226124534159</td>\n",
       "      <td>-4.919066</td>\n",
       "      <td>-1.574213</td>\n",
       "      <td>-0.705797</td>\n",
       "      <td>6.954770</td>\n",
       "      <td>3.916344</td>\n",
       "      <td>1.558945</td>\n",
       "      <td>-2.438886</td>\n",
       "      <td>-0.506073</td>\n",
       "      <td>...</td>\n",
       "      <td>-0.000927</td>\n",
       "      <td>0.002695</td>\n",
       "      <td>0.041104</td>\n",
       "      <td>-0.027711</td>\n",
       "      <td>-0.038396</td>\n",
       "      <td>0.000912</td>\n",
       "      <td>0.033278</td>\n",
       "      <td>0.0</td>\n",
       "      <td>0.5</td>\n",
       "      <td>0.5</td>\n",
       "    </tr>\n",
       "    <tr>\n",
       "      <th>5010</th>\n",
       "      <td>100.22</td>\n",
       "      <td>diva_babbling-20250226124534159</td>\n",
       "      <td>-4.344322</td>\n",
       "      <td>-3.921346</td>\n",
       "      <td>-0.688397</td>\n",
       "      <td>4.703874</td>\n",
       "      <td>2.707205</td>\n",
       "      <td>-0.498062</td>\n",
       "      <td>-4.356154</td>\n",
       "      <td>2.139573</td>\n",
       "      <td>...</td>\n",
       "      <td>-0.002987</td>\n",
       "      <td>0.008364</td>\n",
       "      <td>0.021424</td>\n",
       "      <td>-0.011467</td>\n",
       "      <td>-0.016148</td>\n",
       "      <td>-0.000993</td>\n",
       "      <td>0.016491</td>\n",
       "      <td>0.0</td>\n",
       "      <td>0.5</td>\n",
       "      <td>0.5</td>\n",
       "    </tr>\n",
       "    <tr>\n",
       "      <th>5011</th>\n",
       "      <td>100.24</td>\n",
       "      <td>diva_babbling-20250226124534159</td>\n",
       "      <td>-2.650244</td>\n",
       "      <td>-6.922456</td>\n",
       "      <td>-0.470926</td>\n",
       "      <td>0.889583</td>\n",
       "      <td>0.665380</td>\n",
       "      <td>-2.866601</td>\n",
       "      <td>-6.524328</td>\n",
       "      <td>6.052964</td>\n",
       "      <td>...</td>\n",
       "      <td>0.001730</td>\n",
       "      <td>0.007700</td>\n",
       "      <td>0.003600</td>\n",
       "      <td>-0.000018</td>\n",
       "      <td>0.003490</td>\n",
       "      <td>0.001576</td>\n",
       "      <td>0.008181</td>\n",
       "      <td>0.0</td>\n",
       "      <td>0.5</td>\n",
       "      <td>0.5</td>\n",
       "    </tr>\n",
       "  </tbody>\n",
       "</table>\n",
       "<p>5012 rows × 1039 columns</p>\n",
       "</div>"
      ],
      "text/plain": [
       "        time                          file_id   wavlm_0   wavlm_1   wavlm_2  \\\n",
       "0       0.02  diva_babbling-20250226124534159 -8.328044 -4.430831  5.220529   \n",
       "1       0.04  diva_babbling-20250226124534159 -2.121984 -2.401135  0.146988   \n",
       "2       0.06  diva_babbling-20250226124534159  1.423781 -1.142485 -2.111336   \n",
       "3       0.08  diva_babbling-20250226124534159  2.132555 -0.643783 -1.515574   \n",
       "4       0.10  diva_babbling-20250226124534159  1.793745 -0.212915 -0.309870   \n",
       "...      ...                              ...       ...       ...       ...   \n",
       "5007  100.16  diva_babbling-20250226124534159 -2.773144 -0.640748 -1.765120   \n",
       "5008  100.18  diva_babbling-20250226124534159 -4.159608 -0.441262 -0.841475   \n",
       "5009  100.20  diva_babbling-20250226124534159 -4.919066 -1.574213 -0.705797   \n",
       "5010  100.22  diva_babbling-20250226124534159 -4.344322 -3.921346 -0.688397   \n",
       "5011  100.24  diva_babbling-20250226124534159 -2.650244 -6.922456 -0.470926   \n",
       "\n",
       "       wavlm_3   wavlm_4   wavlm_5   wavlm_6   wavlm_7  ...  Soft_palate  \\\n",
       "0     2.380581  0.103859 -0.265351  0.850460 -0.678557  ...     0.005431   \n",
       "1     4.700733  1.395359  1.051130  1.225244 -1.074319  ...     0.005482   \n",
       "2     5.488804  1.738774  1.440164  1.362637 -0.993499  ...     0.029191   \n",
       "3     4.749337  0.962145  0.652313  0.701610 -0.447825  ...     0.048315   \n",
       "4     3.651519 -0.317718 -0.773141 -1.240885  0.292765  ...     0.083900   \n",
       "...        ...       ...       ...       ...       ...  ...          ...   \n",
       "5007  5.945189  2.409860  4.077280 -0.436648 -1.379136  ...    -0.006804   \n",
       "5008  7.141564  3.784247  3.106020 -1.086247 -1.504352  ...    -0.002098   \n",
       "5009  6.954770  3.916344  1.558945 -2.438886 -0.506073  ...    -0.000927   \n",
       "5010  4.703874  2.707205 -0.498062 -4.356154  2.139573  ...    -0.002987   \n",
       "5011  0.889583  0.665380 -2.866601 -6.524328  6.052964  ...     0.001730   \n",
       "\n",
       "      Larynx_height  Tongue_1  Tongue_2  Tongue_3  Tongue_4  Tongue_5  \\\n",
       "0         -0.007976  0.010153  0.000690 -0.010109 -0.004632 -0.003131   \n",
       "1         -0.017122  0.041596 -0.017655 -0.022681 -0.009150 -0.005773   \n",
       "2         -0.049002  0.085399 -0.007685 -0.034308 -0.018743 -0.003563   \n",
       "3         -0.074785  0.171874 -0.003973 -0.055404 -0.020868  0.003801   \n",
       "4         -0.122626  0.278817  0.015420 -0.066677 -0.043239  0.018279   \n",
       "...             ...       ...       ...       ...       ...       ...   \n",
       "5007      -0.000128  0.114219 -0.112398 -0.140294 -0.007441  0.088630   \n",
       "5008       0.001888  0.077135 -0.056636 -0.079621 -0.001084  0.059815   \n",
       "5009       0.002695  0.041104 -0.027711 -0.038396  0.000912  0.033278   \n",
       "5010       0.008364  0.021424 -0.011467 -0.016148 -0.000993  0.016491   \n",
       "5011       0.007700  0.003600 -0.000018  0.003490  0.001576  0.008181   \n",
       "\n",
       "      Tension  Pressure  Voicing  \n",
       "0         0.0       0.5      0.5  \n",
       "1         0.0       0.5      0.5  \n",
       "2         0.0       0.5      0.5  \n",
       "3         0.0       0.5      0.5  \n",
       "4         0.0       0.5      0.5  \n",
       "...       ...       ...      ...  \n",
       "5007      0.0       0.5      0.5  \n",
       "5008      0.0       0.5      0.5  \n",
       "5009      0.0       0.5      0.5  \n",
       "5010      0.0       0.5      0.5  \n",
       "5011      0.0       0.5      0.5  \n",
       "\n",
       "[5012 rows x 1039 columns]"
      ]
     },
     "execution_count": 19,
     "metadata": {},
     "output_type": "execute_result"
    }
   ],
   "source": [
    "df_merged"
   ]
  },
  {
   "cell_type": "code",
   "execution_count": null,
   "id": "-m4UAMpWDsJS",
   "metadata": {
    "id": "-m4UAMpWDsJS"
   },
   "outputs": [],
   "source": [
    "# save data to disk\n",
    "# df_data_all['file_id'].nunique()\n",
    "# df_data_all.to_csv(dir_out + 'df_data_all_wavlm-and-divaart-' + datetime.datetime.now().strftime(\"%Y%m%d%H%M\") + '.csv', index=True)\n",
    "\n"
   ]
  },
  {
   "cell_type": "code",
   "execution_count": 44,
   "id": "219b3387",
   "metadata": {
    "id": "219b3387"
   },
   "outputs": [
    {
     "name": "stderr",
     "output_type": "stream",
     "text": [
      "/scratch/2853667.1.onrcc-gpu/ipykernel_1342796/2885946244.py:19: FutureWarning: Passing a DataFrame to DataFrame.from_records is deprecated. Use set_index and/or drop to modify the DataFrame instead.\n",
      "  pd.DataFrame.from_records(b).to_csv(dir_out + 'Wb_wavlm2divaart-' + datetime.datetime.now().strftime(\"%Y%m%d%H%M\") + '.csv', index=True)\n"
     ]
    }
   ],
   "source": [
    "# cols_wavlm  = [col for col in df_data_all.columns if 'wavlm' in col]\n",
    "# cols_diva = [col for col in df_data_all.columns if col not in cols_wavlm+id_cols]\n",
    "# out = np.linalg.lstsq(df_data_all[cols_wavlm], df_data_all[cols_diva])\n",
    "\n",
    "# when using MultiOutput + SGD\n",
    "W = [m.coef_ for m in model.estimators_]\n",
    "W = np.vstack(W)\n",
    "\n",
    "b = [m.intercept_ for m in model.estimators_]\n",
    "b = np.concat(b)\n",
    "b = pd.DataFrame({'b': b})\n",
    "\n",
    "# # when using MultiOutput + SGD\n",
    "# W = model.coef_\n",
    "# b = pd.DataFrame({'b': model.intercept_})\n",
    "\n",
    "# save values to disk\n",
    "pd.DataFrame.from_records(W).to_csv(dir_out + 'W_wavlm2divaart-' + datetime.datetime.now().strftime(\"%Y%m%d%H%M\") + '.csv', index=True)\n",
    "pd.DataFrame.from_records(b).to_csv(dir_out + 'Wb_wavlm2divaart-' + datetime.datetime.now().strftime(\"%Y%m%d%H%M\") + '.csv', index=True)"
   ]
  },
  {
   "cell_type": "code",
   "execution_count": null,
   "id": "4ef52e14",
   "metadata": {
    "id": "4ef52e14"
   },
   "outputs": [
    {
     "data": {
      "text/html": [
       "<div>\n",
       "<style scoped>\n",
       "    .dataframe tbody tr th:only-of-type {\n",
       "        vertical-align: middle;\n",
       "    }\n",
       "\n",
       "    .dataframe tbody tr th {\n",
       "        vertical-align: top;\n",
       "    }\n",
       "\n",
       "    .dataframe thead th {\n",
       "        text-align: right;\n",
       "    }\n",
       "</style>\n",
       "<table border=\"1\" class=\"dataframe\">\n",
       "  <thead>\n",
       "    <tr style=\"text-align: right;\">\n",
       "      <th></th>\n",
       "      <th>b</th>\n",
       "    </tr>\n",
       "  </thead>\n",
       "  <tbody>\n",
       "    <tr>\n",
       "      <th>0</th>\n",
       "      <td>0.000064</td>\n",
       "    </tr>\n",
       "    <tr>\n",
       "      <th>1</th>\n",
       "      <td>-0.000029</td>\n",
       "    </tr>\n",
       "    <tr>\n",
       "      <th>2</th>\n",
       "      <td>-0.000044</td>\n",
       "    </tr>\n",
       "    <tr>\n",
       "      <th>3</th>\n",
       "      <td>-0.000026</td>\n",
       "    </tr>\n",
       "    <tr>\n",
       "      <th>4</th>\n",
       "      <td>0.000009</td>\n",
       "    </tr>\n",
       "    <tr>\n",
       "      <th>5</th>\n",
       "      <td>0.000148</td>\n",
       "    </tr>\n",
       "    <tr>\n",
       "      <th>6</th>\n",
       "      <td>-0.000016</td>\n",
       "    </tr>\n",
       "    <tr>\n",
       "      <th>7</th>\n",
       "      <td>-0.000143</td>\n",
       "    </tr>\n",
       "    <tr>\n",
       "      <th>8</th>\n",
       "      <td>0.000034</td>\n",
       "    </tr>\n",
       "    <tr>\n",
       "      <th>9</th>\n",
       "      <td>0.000095</td>\n",
       "    </tr>\n",
       "  </tbody>\n",
       "</table>\n",
       "</div>"
      ],
      "text/plain": [
       "          b\n",
       "0  0.000064\n",
       "1 -0.000029\n",
       "2 -0.000044\n",
       "3 -0.000026\n",
       "4  0.000009\n",
       "5  0.000148\n",
       "6 -0.000016\n",
       "7 -0.000143\n",
       "8  0.000034\n",
       "9  0.000095"
      ]
     },
     "execution_count": 42,
     "metadata": {},
     "output_type": "execute_result"
    }
   ],
   "source": [
    "W = [m.coef_ for m in model.estimators_]\n",
    "W = np.vstack(W).shape\n",
    "\n",
    "b = [m.intercept_ for m in model.estimators_]\n",
    "b = np.concat(b)\n",
    "b = pd.DataFrame({'b': b})"
   ]
  },
  {
   "cell_type": "code",
   "execution_count": null,
   "id": "53fe5247",
   "metadata": {
    "id": "53fe5247"
   },
   "outputs": [],
   "source": []
  },
  {
   "cell_type": "markdown",
   "id": "J27S-SWvORzg",
   "metadata": {
    "id": "J27S-SWvORzg"
   },
   "source": [
    "\n",
    "\n",
    "# Visualize trajectories of Y_pred"
   ]
  },
  {
   "cell_type": "code",
   "execution_count": null,
   "id": "6e8411ae",
   "metadata": {
    "id": "6e8411ae"
   },
   "outputs": [],
   "source": [
    "df_data_all"
   ]
  },
  {
   "cell_type": "code",
   "execution_count": 12,
   "id": "7a2b7393",
   "metadata": {
    "id": "7a2b7393"
   },
   "outputs": [
    {
     "name": "stdout",
     "output_type": "stream",
     "text": [
      "(10, 1024)\n",
      "(10,)\n"
     ]
    }
   ],
   "source": [
    "W = pd.read_csv(f'{topdir}/sample_audio/diva_babbling_resynth/W_wavlm2divaart-202502261732.csv')\n",
    "b = pd.read_csv(f'{topdir}/sample_audio/diva_babbling_resynth/Wb_wavlm2divaart-202502261732.csv')\n",
    "W = W.iloc[:, 1:].values\n",
    "b = b.iloc[:, 1].values\n",
    "# # alternatively, W and b from model if it was run\n",
    "# W = model.coef_\n",
    "# b = model.intercept_\n",
    "\n",
    "# print(df_data_all[cols_wavlm].shape)\n",
    "# print(W.T.shape)\n",
    "# Y_pred = df_data_all[cols_wavlm] @ W.T + b\n",
    "\n",
    "# alternatively\n",
    "# Y_pred = model.predict(X)\n",
    "print(W.shape)\n",
    "print(b.shape)\n"
   ]
  },
  {
   "cell_type": "code",
   "execution_count": null,
   "id": "1TwpOLxXOlCF",
   "metadata": {
    "id": "1TwpOLxXOlCF"
   },
   "outputs": [],
   "source": [
    "\n",
    "df_pred = pd.DataFrame.from_records(Y_pred)\n",
    "df_pred.columns = [s+\"_pred\" for s in cols_diva]\n",
    "df_data_all = pd.concat([df_data_all, df_pred], axis=1)"
   ]
  },
  {
   "cell_type": "code",
   "execution_count": null,
   "id": "mB8LP29VRd-S",
   "metadata": {
    "id": "mB8LP29VRd-S"
   },
   "outputs": [],
   "source": [
    "df_data_all"
   ]
  },
  {
   "cell_type": "code",
   "execution_count": null,
   "id": "eda83f16",
   "metadata": {
    "id": "eda83f16"
   },
   "outputs": [],
   "source": [
    "# calculate sum of squares prediction value for each articulator\n",
    "r2 = {}\n",
    "for i, col in enumerate(cols_diva):\n",
    "    # col = \"Jaw\"\n",
    "    # corr = np.dot(df_data_all[col], df_data_all[col+\"_pred\"])\n",
    "    res = df_data_all[col+\"_pred\"] - df_data_all[col]\n",
    "    r2[col] = 1 - ((res**2).sum()) / (df_data_all[col]**2).sum()\n",
    "    r2[col] = float(np.round(r2[col], 2))\n",
    "# np.corrcoef(df_data_all[col+\"_pred\"], df_data_all[col])\n",
    "r2"
   ]
  },
  {
   "cell_type": "code",
   "execution_count": null,
   "id": "5416f6ca",
   "metadata": {
    "id": "5416f6ca"
   },
   "outputs": [],
   "source": [
    "fileex = 'diva_babbling-20250224123835338'\n",
    "df_plot = df_data_all[df_data_all['file_id']==fileex]\n",
    "\n",
    "fig, ax = plt.subplots(figsize=[12, 10])\n",
    "cm = np.asarray(mpl.colormaps['tab10'].colors)\n",
    "offset = 1.5\n",
    "for iart,art_name in enumerate(cols_diva):\n",
    "    cur_offset = iart*offset\n",
    "    ax.plot(df_plot['time'], cur_offset + df_plot[art_name],         color=cm[iart % cm.shape[0], :], alpha=0.5)\n",
    "    ax.plot(df_plot['time'], cur_offset + df_plot[art_name+\"_pred\"], color=cm[iart % cm.shape[0], :], linestyle='--')\n",
    "\n",
    "ax.set_yticks(offset*np.arange(len(cols_diva)), [c + \" (r2=\" + str(round(r2[c], 2)) + \")\" for c in cols_diva] )\n",
    "plt.show()"
   ]
  },
  {
   "cell_type": "code",
   "execution_count": null,
   "id": "42031374",
   "metadata": {
    "id": "42031374"
   },
   "outputs": [],
   "source": []
  },
  {
   "cell_type": "markdown",
   "id": "4cec4e3c",
   "metadata": {
    "id": "4cec4e3c"
   },
   "source": [
    "# Convert test wav file to diva art time series using learned W"
   ]
  },
  {
   "cell_type": "code",
   "execution_count": 13,
   "id": "ec8013fd",
   "metadata": {
    "id": "ec8013fd"
   },
   "outputs": [],
   "source": [
    "wav_file = f'{topdir}/sample_audio/eeayeeayoo.wav'\n",
    "# wav_file = '../sample_audio/thisisme-lat.wav'\n",
    "\n",
    "(fdir, fname) = os.path.split(wav_file)\n",
    "(fname, fext) = fname.split('.')"
   ]
  },
  {
   "cell_type": "code",
   "execution_count": 14,
   "id": "a0090898",
   "metadata": {
    "id": "a0090898"
   },
   "outputs": [
    {
     "name": "stdout",
     "output_type": "stream",
     "text": [
      "_extract_ema: v4\n"
     ]
    },
    {
     "name": "stderr",
     "output_type": "stream",
     "text": [
      "/projectnb/busplab/lbullock/.conda/envs/sparc_20250225/lib/python3.9/site-packages/torch/nn/functional.py:5962: UserWarning: Support for mismatched key_padding_mask and attn_mask is deprecated. Use same type for both instead.\n",
      "  warnings.warn(\n"
     ]
    }
   ],
   "source": [
    "\n",
    "code_orig = coder.encode(wav_file)\n"
   ]
  },
  {
   "cell_type": "code",
   "execution_count": 15,
   "id": "29149daa",
   "metadata": {
    "id": "29149daa"
   },
   "outputs": [],
   "source": [
    "# code_orig\n",
    "wavlm  = code_orig['acoustics_wvlm']\n",
    "divaart_predic = wavlm @ W.T + b\n",
    "pd.DataFrame.from_records(divaart_predic).to_csv(fdir + \"/\" +  fname + '-divaart-predic-' + datetime.datetime.now().strftime(\"%Y%m%d%H%M\") + '.csv', index=False)"
   ]
  },
  {
   "cell_type": "markdown",
   "id": "df3150bb",
   "metadata": {
    "id": "df3150bb"
   },
   "source": [
    "# Encode, resynthesize, perturb wav file"
   ]
  },
  {
   "cell_type": "code",
   "execution_count": null,
   "id": "00e0c6c7-e456-4cff-b573-9504d03ab88a",
   "metadata": {
    "id": "00e0c6c7-e456-4cff-b573-9504d03ab88a"
   },
   "outputs": [],
   "source": [
    "vars_timeseries = ['ema', 'loudness', 'pitch', 'periodicity']\n",
    "# wav_file = '/Users/ly546/Downloads/sub-DM1033_ses-intraop_task-lombard_run-03_clip.wav'\n",
    "code_orig = coder.encode(wav_file)\n",
    "# code_orig = {k : v.squeeze().shape for k, v in code_orig.items() if k in ['ema', 'loudness', 'pitch', 'periodicity']}\n",
    "# code_orig =\n",
    "\n",
    "code_orig = {k: (v.squeeze(axis=0) if k in vars_timeseries+[\"spk_emb\"] and v.shape[0]==1 else v) for k, v in code_orig.items()}\n",
    "# {k : (v.shape if k in ['ema', 'loudness', 'pitch', 'periodicity', 'acoustics_wvlm', 'spk_emb'] else v) for k,v in code_orig.items()}\n"
   ]
  },
  {
   "cell_type": "markdown",
   "id": "f9122a05",
   "metadata": {
    "id": "f9122a05"
   },
   "source": [
    "### Plot the SPARC linear transform from auditory to motor space"
   ]
  },
  {
   "cell_type": "code",
   "execution_count": null,
   "id": "5b3fe815",
   "metadata": {
    "id": "5b3fe815"
   },
   "outputs": [],
   "source": [
    "W = coder.inverter.linear_model.weight.float().numpy()\n",
    "B = coder.inverter.linear_model.bias.float().numpy()\n",
    "fig, ax = plt.subplots(figsize=[20, 10])\n",
    "ax.imshow(W[:, 100:200])\n",
    "W.shape"
   ]
  },
  {
   "cell_type": "code",
   "execution_count": null,
   "id": "f2fa0a07",
   "metadata": {
    "id": "f2fa0a07"
   },
   "outputs": [],
   "source": [
    "wav = coder.decode(**code_orig)\n",
    "sf.write(wav_file[0:-4] + '-resynth.wav', wav, coder.sr)\n",
    "\n",
    "# resynthesized\n",
    "ipd.display(ipd.Audio(wav, rate=coder.sr))"
   ]
  },
  {
   "cell_type": "code",
   "execution_count": null,
   "id": "0ccc60c2",
   "metadata": {
    "id": "0ccc60c2"
   },
   "outputs": [],
   "source": [
    "def perturb_ema(ema):\n",
    "    pert = np.zeros_like(ema)\n",
    "    pert_t = np.arange(0, pert.shape[0]) / 50\n",
    "\n",
    "    t_pert_start = 0.3\n",
    "    t_pert_end = 1.2\n",
    "\n",
    "    idxs_x = [s in ['TBX', 'TDX'] for i,s in enumerate(HPRC_channel_label)]\n",
    "    idxs_y = [s in ['TBY', 'TDY'] for i,s in enumerate(HPRC_channel_label)]\n",
    "\n",
    "    idxs_t = (pert_t>t_pert_start) & (pert_t<t_pert_end)\n",
    "\n",
    "    # pert[idxs_t, idxs_x] = 0.1\n",
    "    pert[np.ix_(idxs_t, idxs_x)] = 0.5\n",
    "    pert[np.ix_(idxs_t, idxs_y)] = 1\n",
    "\n",
    "    # pert = [ for i in range(pert.shape[1])]\n",
    "    pert = np.apply_along_axis(lambda x : sp.signal.savgol_filter(x, 5, 2), axis=0, arr=pert)\n",
    "\n",
    "    # plt.imshow(pert)\n",
    "    # np.max(ema, axis=0)\n",
    "    return ema + pert"
   ]
  },
  {
   "cell_type": "code",
   "execution_count": null,
   "id": "049fa173-cd75-4237-b317-b9701e258791",
   "metadata": {
    "id": "049fa173-cd75-4237-b317-b9701e258791"
   },
   "outputs": [],
   "source": [
    "code = copy.deepcopy(code_orig)\n",
    "# code = code_orig.copy()\n",
    "\n",
    "code['ema'] = perturb_ema(code_orig['ema'])\n",
    "wav = coder.decode(**code)\n",
    "sf.write(wav_file[0:-4] + '-resynth-pert.wav', wav, coder.sr)\n",
    "\n",
    "# resynthesized\n",
    "ipd.display(ipd.Audio(wav, rate=coder.sr))"
   ]
  },
  {
   "cell_type": "code",
   "execution_count": null,
   "id": "2e6ed050",
   "metadata": {
    "id": "2e6ed050"
   },
   "outputs": [],
   "source": [
    "# extend the perturbation\n",
    "code = copy.deepcopy(code_orig)\n",
    "\n",
    "idx_split = 44\n",
    "def extendmat(m, idx_split, nrpt, axis=0):\n",
    "    return np.concatenate((m[0:idx_split, :], np.tile(m[idx_split, :], (nrpt, 1)), m[idx_split:-1, :]), axis=axis)\n",
    "\n",
    "code =  {k: (extendmat(v, idx_split, 100) if k in ['ema', 'loudness', 'pitch', 'periodicity'] else v) for k, v in code.items()}\n",
    "# {k: extendmat(v, idx_split, 20) for k, v in code.items()}\n",
    "# {k: (v.shape if k in vars_timeseries else 1) for k, v in code.items()}\n",
    "\n",
    "wav = coder.decode(**code)\n",
    "sf.write(wav_file[0:-4] + '-resynth-extended.wav', wav, coder.sr)\n",
    "\n",
    "ipd.display(ipd.Audio(wav, rate=coder.sr))"
   ]
  },
  {
   "cell_type": "code",
   "execution_count": null,
   "id": "775a7fe0",
   "metadata": {
    "id": "775a7fe0"
   },
   "outputs": [],
   "source": [
    "# test the minimal amount of data we can pass to the synthesizer\n",
    "code = copy.deepcopy(code_orig)\n",
    "\n",
    "idx_width = 1\n",
    "idx_center = 40\n",
    "def slicemat(m, idx_width, idx_center):\n",
    "    idxs = np.arange(idx_width) + idx_center\n",
    "    return m[idxs, :]\n",
    "\n",
    "code =  {k: (slicemat(v, idx_width, idx_center) if k in ['ema', 'loudness', 'pitch', 'periodicity'] else v) for k, v in code.items()}\n",
    "# {k: extendmat(v, idx_split, 20) for k, v in code.items()}\n",
    "# {k: (v.shape if k in vars_timeseries else 1) for k, v in code.items()}\n"
   ]
  },
  {
   "cell_type": "code",
   "execution_count": null,
   "id": "7a81e991",
   "metadata": {
    "id": "7a81e991"
   },
   "outputs": [],
   "source": [
    "\n",
    "wav = coder.decode(**code)\n",
    "print(f'Duration: {len(wav) / coder.sr}')\n",
    "sf.write(wav_file[0:-4] + '-sliced.wav', wav, coder.sr)\n",
    "\n",
    "ipd.display(ipd.Audio(wav, rate=coder.sr))"
   ]
  },
  {
   "cell_type": "code",
   "execution_count": null,
   "id": "174cda31-3b6d-4add-9c99-3df8f96165f6",
   "metadata": {
    "id": "174cda31-3b6d-4add-9c99-3df8f96165f6",
    "scrolled": true
   },
   "outputs": [],
   "source": [
    "# ground truth reference\n",
    "wavt,tsr = sf.read(wav_file)\n",
    "ipd.display(ipd.Audio(wavt, rate=tsr))"
   ]
  },
  {
   "cell_type": "markdown",
   "id": "444a51a7",
   "metadata": {
    "id": "444a51a7"
   },
   "source": [
    "# Detect audio errors from bed to bad, apply to motor command"
   ]
  },
  {
   "cell_type": "code",
   "execution_count": null,
   "id": "dd907bfb",
   "metadata": {
    "id": "dd907bfb"
   },
   "outputs": [],
   "source": [
    "vars_timeseries = ['ema', 'loudness', 'pitch', 'periodicity']\n",
    "\n",
    "wav_file_bed  = '../sample_audio/bed-lat.wav'\n",
    "wav_file_bAd  = '../sample_audio/bad-lat.wav'\n",
    "\n",
    "# trim wav files to make them equal length\n",
    "wav_bed,wav_bed_sr = sf.read(wav_file_bed)\n",
    "wav_bAd,wav_bAd_sr = sf.read(wav_file_bAd)\n",
    "\n",
    "if len(wav_bed)>len(wav_bAd):\n",
    "    wav_bed = wav_bed[0:len(wav_bAd)]\n",
    "else:\n",
    "    wav_bAd = wav_bAd[0:len(wav_bed)]\n",
    "\n",
    "print(len(wav_bed), len(wav_bAd))\n",
    "sf.write(wav_file_bed[0:-4] + '-trim.wav', wav_bed, wav_bed_sr)\n",
    "sf.write(wav_file_bAd[0:-4] + '-trim.wav', wav_bAd, wav_bed_sr)\n"
   ]
  },
  {
   "cell_type": "code",
   "execution_count": null,
   "id": "bdfa276f",
   "metadata": {
    "id": "bdfa276f"
   },
   "outputs": [],
   "source": [
    "wav_file_bed  = '../sample_audio/bed-lat-trim.wav'\n",
    "wav_file_bAd  = '../sample_audio/bad-lat-trim.wav'\n",
    "\n",
    "def squeeze_code(code_orig):\n",
    "    return {k: (v.squeeze(axis=0) if k in vars_timeseries+[\"spk_emb\"] and v.shape[0]==1 else v) for k, v in code_orig.items()}\n",
    "\n",
    "codes = [coder.encode(f) for f in [wav_file_bed, wav_file_bAd]]\n",
    "codes = [squeeze_code(c) for c in codes]\n"
   ]
  },
  {
   "cell_type": "code",
   "execution_count": null,
   "id": "4805c1f2",
   "metadata": {
    "id": "4805c1f2"
   },
   "outputs": [],
   "source": [
    "# get error traces\n",
    "W = coder.inverter.linear_model.weight.float().numpy()\n",
    "B = coder.inverter.linear_model.bias.float().numpy()\n",
    "\n",
    "A_error = codes[1]['acoustics_wvlm'] - codes[0]['acoustics_wvlm']\n",
    "M_error = np.dot(A_error, W.T) + B\n",
    "M_error = M_error\n"
   ]
  },
  {
   "cell_type": "code",
   "execution_count": null,
   "id": "c7a9e9dd",
   "metadata": {
    "id": "c7a9e9dd"
   },
   "outputs": [],
   "source": [
    "code_new = copy.deepcopy(codes[0])\n",
    "code_new['ema'] = codes[0]['ema'] + M_error\n",
    "\n",
    "codes.append(code_new)"
   ]
  },
  {
   "cell_type": "code",
   "execution_count": null,
   "id": "69bd19fb",
   "metadata": {
    "id": "69bd19fb"
   },
   "outputs": [],
   "source": [
    "fig,ax = plt.subplots(2,1, figsize=(5,10), sharex=True)\n",
    "\n",
    "ax[0].plot(np.arange(0, wav_bed.size) / sr, wav_bed)\n",
    "\n",
    "for code, color in zip(codes, ['tab:red', 'tab:blue','tab:purple']):\n",
    "    print(color)\n",
    "    plot_art(ax[1], (code['ema']), color=color, gap=6, alpha=0.5, lw=2)\n",
    "# plot_art(ax[1], perturb_ema(code['ema']), color='C0', gap=6, alpha=0.5, lw=2)\n",
    "# plot_art(ax[1], (code2['ema']), color='C0', gap=6, alpha=0.5, lw=1)\n",
    "\n",
    "\n",
    "plt.show()"
   ]
  },
  {
   "cell_type": "code",
   "execution_count": null,
   "id": "0737bf16",
   "metadata": {
    "id": "0737bf16"
   },
   "outputs": [],
   "source": [
    "wavs_resynth = [coder.decode(**c) for c in codes]\n",
    "\n",
    "sf.write(wav_file_bed[0:-4] + '-resynth.wav', wavs_resynth[0], coder.sr)\n",
    "sf.write(wav_file_bAd[0:-4] + '-resynth.wav', wavs_resynth[1], coder.sr)\n",
    "sf.write(wav_file_bed[0:-4] + '-pert-towards-bad-resynth.wav', wavs_resynth[2], coder.sr)\n"
   ]
  },
  {
   "cell_type": "code",
   "execution_count": null,
   "id": "4b07191b",
   "metadata": {
    "id": "4b07191b"
   },
   "outputs": [],
   "source": [
    "# listen to all three:\n",
    "ipd.display(ipd.Audio(wavs_resynth[0], rate=coder.sr))\n",
    "ipd.display(ipd.Audio(wavs_resynth[1], rate=coder.sr))\n",
    "ipd.display(ipd.Audio(wavs_resynth[2], rate=coder.sr))\n"
   ]
  },
  {
   "cell_type": "markdown",
   "id": "c6e16490-ffb9-4431-b602-e75f07d7ea41",
   "metadata": {
    "id": "c6e16490-ffb9-4431-b602-e75f07d7ea41",
    "tags": []
   },
   "source": [
    "# Voice Conversion"
   ]
  },
  {
   "cell_type": "code",
   "execution_count": null,
   "id": "25d16905-e5b3-4690-b879-b2c7258d250c",
   "metadata": {
    "id": "25d16905-e5b3-4690-b879-b2c7258d250c"
   },
   "outputs": [],
   "source": [
    "# src_wav_file = '/Users/ly546/Downloads/sub-DM1033_ses-intraop_task-lombard_run-03_clip.wav' # '/Users/ly546/Downloads/sub-DM1033_ses-intraop_task-lombard_run-03_clip.wav'\n",
    "# src_wav_file = '../sample_audio/sub-DM1033_ses-intraop_task-lombard_run-03_directionalmicaec-start-99s.wav'\n",
    "src_wav_file = '../sample_audio/thisisme-lat.wav'\n",
    "\n",
    "# targspkemb_wav_file = '../sample_audio/be2d-chin-trim.wav'\n",
    "targspkemb_wav_file = '../sample_audio/thisisme-fran.wav'\n"
   ]
  },
  {
   "cell_type": "code",
   "execution_count": null,
   "id": "f004f691-f9ee-446a-ba06-05a5bd044fef",
   "metadata": {
    "id": "f004f691-f9ee-446a-ba06-05a5bd044fef"
   },
   "outputs": [],
   "source": [
    "converted_wav = coder.convert(src_wav_file, targspkemb_wav_file)\n",
    "ipd.display(ipd.Audio(converted_wav, rate=coder.sr))\n",
    "\n",
    "sf.write(src_wav_file[0:-4] + '_voice-from_' + os.path.split(targspkemb_wav_file)[1][0:-4]  + '-resynth.wav', converted_wav, coder.sr)\n"
   ]
  },
  {
   "cell_type": "code",
   "execution_count": null,
   "id": "43e97d50-2ebf-4fb4-bd83-fc673b2b2609",
   "metadata": {
    "id": "43e97d50-2ebf-4fb4-bd83-fc673b2b2609"
   },
   "outputs": [],
   "source": [
    "src_code = coder.encode(src_wav_file)"
   ]
  },
  {
   "cell_type": "code",
   "execution_count": null,
   "id": "37d1b009-bd78-42ce-8c31-c925c606dcf3",
   "metadata": {
    "id": "37d1b009-bd78-42ce-8c31-c925c606dcf3"
   },
   "outputs": [],
   "source": [
    "converted_code = coder.encode(converted_wav)"
   ]
  },
  {
   "cell_type": "code",
   "execution_count": null,
   "id": "d7810cf9-6881-48aa-bc28-134c37c8453e",
   "metadata": {
    "id": "d7810cf9-6881-48aa-bc28-134c37c8453e"
   },
   "outputs": [],
   "source": [
    "# Articulatory traces remain consistent after voice conversion.\n",
    "plt.plot(src_code['ema'][:,5])\n",
    "plt.plot(converted_code['ema'][:,5])"
   ]
  },
  {
   "cell_type": "code",
   "execution_count": null,
   "id": "a89fe8c5-47f8-4bb1-8924-a02809c7d4ad",
   "metadata": {
    "id": "a89fe8c5-47f8-4bb1-8924-a02809c7d4ad"
   },
   "outputs": [],
   "source": [
    "# source audio\n",
    "src_wav,sr = sf.read(src_wav_file)\n",
    "ipd.display(ipd.Audio(src_wav, rate=sr))"
   ]
  },
  {
   "cell_type": "code",
   "execution_count": null,
   "id": "727464b9-1946-4a4e-a97a-cc285626f3b5",
   "metadata": {
    "id": "727464b9-1946-4a4e-a97a-cc285626f3b5"
   },
   "outputs": [],
   "source": [
    "# target audio\n",
    "trg_wav,sr = sf.read(targspkemb_wav_file)\n",
    "ipd.display(ipd.Audio(trg_wav, rate=sr))"
   ]
  },
  {
   "cell_type": "markdown",
   "id": "d4f9b1fd-6420-4162-8e49-3b32d7707650",
   "metadata": {
    "id": "d4f9b1fd-6420-4162-8e49-3b32d7707650"
   },
   "source": [
    "# Unseen Language"
   ]
  },
  {
   "cell_type": "code",
   "execution_count": null,
   "id": "c8c1aaf0-2906-47d6-978a-8e63a20ccf4e",
   "metadata": {
    "id": "c8c1aaf0-2906-47d6-978a-8e63a20ccf4e"
   },
   "outputs": [],
   "source": [
    "wav_file = \"../sample_audio/italian.wav\""
   ]
  },
  {
   "cell_type": "code",
   "execution_count": null,
   "id": "fa5c5efd-bb1c-476c-8bd1-e17e2e671e80",
   "metadata": {
    "id": "fa5c5efd-bb1c-476c-8bd1-e17e2e671e80"
   },
   "outputs": [],
   "source": [
    "code = coder.encode(wav_file)"
   ]
  },
  {
   "cell_type": "code",
   "execution_count": null,
   "id": "7cd2b558-2579-4a97-b7b1-98a0a9737f7d",
   "metadata": {
    "id": "7cd2b558-2579-4a97-b7b1-98a0a9737f7d"
   },
   "outputs": [],
   "source": [
    "wav = coder.decode(**code)"
   ]
  },
  {
   "cell_type": "code",
   "execution_count": null,
   "id": "21b91f3b-7f56-47a8-be5a-b19cac846ea8",
   "metadata": {
    "id": "21b91f3b-7f56-47a8-be5a-b19cac846ea8"
   },
   "outputs": [],
   "source": [
    "# resynthesized\n",
    "ipd.display(ipd.Audio(wav, rate=coder.sr))"
   ]
  },
  {
   "cell_type": "code",
   "execution_count": null,
   "id": "c57fdbbb-ced2-433a-9ed1-a02c1e56bca7",
   "metadata": {
    "id": "c57fdbbb-ced2-433a-9ed1-a02c1e56bca7"
   },
   "outputs": [],
   "source": [
    "# ground truth reference\n",
    "wavt,tsr = sf.read(wav_file)\n",
    "ipd.display(ipd.Audio(wavt, rate=tsr))"
   ]
  }
 ],
 "metadata": {
  "accelerator": "TPU",
  "colab": {
   "gpuType": "V28",
   "provenance": []
  },
  "kernelspec": {
   "display_name": "Python (sparc_20250225)",
   "language": "python",
   "name": "sparc_20250225"
  },
  "language_info": {
   "codemirror_mode": {
    "name": "ipython",
    "version": 3
   },
   "file_extension": ".py",
   "mimetype": "text/x-python",
   "name": "python",
   "nbconvert_exporter": "python",
   "pygments_lexer": "ipython3",
   "version": "3.9.21"
  }
 },
 "nbformat": 4,
 "nbformat_minor": 5
}
